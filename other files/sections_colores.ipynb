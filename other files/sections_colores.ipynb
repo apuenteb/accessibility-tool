{
 "cells": [
  {
   "cell_type": "code",
   "execution_count": 25,
   "metadata": {},
   "outputs": [],
   "source": [
    "import geopandas as gpd\n",
    "\n",
    "gdf = gpd.read_file('assets/hospital_nodes_times_drive.geojson')"
   ]
  },
  {
   "cell_type": "code",
   "execution_count": 26,
   "metadata": {},
   "outputs": [
    {
     "name": "stdout",
     "output_type": "stream",
     "text": [
      "  Referencia       lon        lat  nearest_node  time_to_nearest_poi  \\\n",
      "0    8594095 -1.948183  43.299723     300125529             8.673502   \n",
      "1    8594099 -1.948484  43.299120     300125529             8.673502   \n",
      "2    8594100 -1.948365  43.298748     300125529             8.673502   \n",
      "3    8796114 -1.928046  43.315046     482709764            17.195503   \n",
      "4    8796136 -1.928175  43.313904     456401690            17.566773   \n",
      "\n",
      "  block_color     nearest_poi  nearest_poi_node                   geometry  \n",
      "0        None  entityB90C729B         553311304  POINT (-1.94818 43.29972)  \n",
      "1        None  entityB90C729B         553311304  POINT (-1.94848 43.29912)  \n",
      "2        None  entityB90C729B         553311304  POINT (-1.94837 43.29875)  \n",
      "3        None  entityB90C729B         553311304  POINT (-1.92805 43.31505)  \n",
      "4        None  entityB90C729B         553311304   POINT (-1.92818 43.3139)  \n"
     ]
    }
   ],
   "source": [
    "print(gdf.head())"
   ]
  },
  {
   "cell_type": "code",
   "execution_count": 27,
   "metadata": {},
   "outputs": [],
   "source": [
    "buildings = gpd.read_file('assets/buildings_by_section.geojson')"
   ]
  },
  {
   "cell_type": "code",
   "execution_count": 28,
   "metadata": {},
   "outputs": [
    {
     "name": "stdout",
     "output_type": "stream",
     "text": [
      "  Erreferentz       CUSEC  CUMUN Seccion Distrito    CUDIS  \\\n",
      "0     8594095  2006907027  20069     027       07  2006907   \n",
      "1     8594099  2006907027  20069     027       07  2006907   \n",
      "2     8594100  2006907027  20069     027       07  2006907   \n",
      "3     8796114  2006907023  20069     023       07  2006907   \n",
      "4     8796136  2006907023  20069     023       07  2006907   \n",
      "\n",
      "                Municipio                                           geometry  \n",
      "0  Donostia/San Sebastián  MULTIPOLYGON (((-1.94835 43.29971, -1.94834 43...  \n",
      "1  Donostia/San Sebastián  MULTIPOLYGON (((-1.94828 43.29886, -1.94831 43...  \n",
      "2  Donostia/San Sebastián  MULTIPOLYGON (((-1.94794 43.29851, -1.94797 43...  \n",
      "3  Donostia/San Sebastián  MULTIPOLYGON (((-1.92793 43.31524, -1.92823 43...  \n",
      "4  Donostia/San Sebastián  MULTIPOLYGON (((-1.92885 43.31418, -1.92859 43...  \n"
     ]
    }
   ],
   "source": [
    "print(buildings.head())"
   ]
  },
  {
   "cell_type": "code",
   "execution_count": 29,
   "metadata": {},
   "outputs": [],
   "source": [
    "buildings['time']=gdf['time_to_nearest_poi']"
   ]
  },
  {
   "cell_type": "code",
   "execution_count": 30,
   "metadata": {},
   "outputs": [
    {
     "name": "stdout",
     "output_type": "stream",
     "text": [
      "  Erreferentz       CUSEC  CUMUN Seccion Distrito    CUDIS  \\\n",
      "0     8594095  2006907027  20069     027       07  2006907   \n",
      "1     8594099  2006907027  20069     027       07  2006907   \n",
      "2     8594100  2006907027  20069     027       07  2006907   \n",
      "3     8796114  2006907023  20069     023       07  2006907   \n",
      "4     8796136  2006907023  20069     023       07  2006907   \n",
      "\n",
      "                Municipio                                           geometry  \\\n",
      "0  Donostia/San Sebastián  MULTIPOLYGON (((-1.94835 43.29971, -1.94834 43...   \n",
      "1  Donostia/San Sebastián  MULTIPOLYGON (((-1.94828 43.29886, -1.94831 43...   \n",
      "2  Donostia/San Sebastián  MULTIPOLYGON (((-1.94794 43.29851, -1.94797 43...   \n",
      "3  Donostia/San Sebastián  MULTIPOLYGON (((-1.92793 43.31524, -1.92823 43...   \n",
      "4  Donostia/San Sebastián  MULTIPOLYGON (((-1.92885 43.31418, -1.92859 43...   \n",
      "\n",
      "        time  \n",
      "0   8.673502  \n",
      "1   8.673502  \n",
      "2   8.673502  \n",
      "3  17.195503  \n",
      "4  17.566773  \n"
     ]
    }
   ],
   "source": [
    "print(buildings.head())"
   ]
  },
  {
   "cell_type": "code",
   "execution_count": 31,
   "metadata": {},
   "outputs": [],
   "source": [
    "# drop geometry, CUMUN, Seccion, Distrito, CUDIS\n",
    "buildings = buildings.drop(columns=['geometry', 'CUMUN', 'Seccion', 'Distrito', 'CUDIS'])"
   ]
  },
  {
   "cell_type": "code",
   "execution_count": 32,
   "metadata": {},
   "outputs": [
    {
     "name": "stdout",
     "output_type": "stream",
     "text": [
      "  Erreferentz       CUSEC               Municipio       time\n",
      "0     8594095  2006907027  Donostia/San Sebastián   8.673502\n",
      "1     8594099  2006907027  Donostia/San Sebastián   8.673502\n",
      "2     8594100  2006907027  Donostia/San Sebastián   8.673502\n",
      "3     8796114  2006907023  Donostia/San Sebastián  17.195503\n",
      "4     8796136  2006907023  Donostia/San Sebastián  17.566773\n"
     ]
    }
   ],
   "source": [
    "print(buildings.head())"
   ]
  },
  {
   "cell_type": "code",
   "execution_count": 33,
   "metadata": {},
   "outputs": [
    {
     "name": "stdout",
     "output_type": "stream",
     "text": [
      "        CUSEC  CUMUN Seccion Distrito    CUDIS     Municipio  \\\n",
      "0  2000101001  20001     001       01  2000101  Abaltzisketa   \n",
      "1  2000201001  20002     001       01  2000201         Aduna   \n",
      "2  2000301001  20003     001       01  2000301  Aizarnazabal   \n",
      "3  2000401001  20004     001       01  2000401      Albiztur   \n",
      "4  2000501001  20005     001       01  2000501        Alegia   \n",
      "\n",
      "                                            geometry  \n",
      "0  MULTIPOLYGON (((-2.09892 43.06533, -2.0989 43....  \n",
      "1  MULTIPOLYGON (((-2.03912 43.2023, -2.03915 43....  \n",
      "2  MULTIPOLYGON (((-2.20725 43.27294, -2.20714 43...  \n",
      "3  MULTIPOLYGON (((-2.11304 43.1257, -2.11322 43....  \n",
      "4  MULTIPOLYGON (((-2.09007 43.1124, -2.08947 43....  \n"
     ]
    }
   ],
   "source": [
    "sections = gpd.read_file('assets/sections_gipuzkoa.geojson')\n",
    "print(sections.head())"
   ]
  },
  {
   "cell_type": "code",
   "execution_count": 34,
   "metadata": {},
   "outputs": [],
   "source": [
    "# Compute the average time per CUSEC\n",
    "avg_time = buildings.groupby(\"CUSEC\")[\"time\"].mean().reset_index()\n",
    "\n",
    "# Merge with sections GeoDataFrame\n",
    "sections = sections.merge(avg_time, on=\"CUSEC\", how=\"left\")"
   ]
  },
  {
   "cell_type": "code",
   "execution_count": 35,
   "metadata": {},
   "outputs": [
    {
     "name": "stdout",
     "output_type": "stream",
     "text": [
      "        CUSEC  CUMUN Seccion Distrito    CUDIS     Municipio  \\\n",
      "0  2000101001  20001     001       01  2000101  Abaltzisketa   \n",
      "1  2000201001  20002     001       01  2000201         Aduna   \n",
      "2  2000301001  20003     001       01  2000301  Aizarnazabal   \n",
      "3  2000401001  20004     001       01  2000401      Albiztur   \n",
      "4  2000501001  20005     001       01  2000501        Alegia   \n",
      "\n",
      "                                            geometry       time  \n",
      "0  MULTIPOLYGON (((-2.09892 43.06533, -2.0989 43....  35.623082  \n",
      "1  MULTIPOLYGON (((-2.03912 43.2023, -2.03915 43....  21.999012  \n",
      "2  MULTIPOLYGON (((-2.20725 43.27294, -2.20714 43...  33.403964  \n",
      "3  MULTIPOLYGON (((-2.11304 43.1257, -2.11322 43....  33.878480  \n",
      "4  MULTIPOLYGON (((-2.09007 43.1124, -2.08947 43....  28.624581  \n"
     ]
    }
   ],
   "source": [
    "print(sections.head())"
   ]
  },
  {
   "cell_type": "code",
   "execution_count": 36,
   "metadata": {},
   "outputs": [
    {
     "ename": "KeyError",
     "evalue": "\"['time_y'] not found in axis\"",
     "output_type": "error",
     "traceback": [
      "\u001b[1;31m---------------------------------------------------------------------------\u001b[0m",
      "\u001b[1;31mKeyError\u001b[0m                                  Traceback (most recent call last)",
      "Cell \u001b[1;32mIn[36], line 2\u001b[0m\n\u001b[0;32m      1\u001b[0m \u001b[38;5;66;03m# drop time_y\u001b[39;00m\n\u001b[1;32m----> 2\u001b[0m sections \u001b[38;5;241m=\u001b[39m \u001b[43msections\u001b[49m\u001b[38;5;241;43m.\u001b[39;49m\u001b[43mdrop\u001b[49m\u001b[43m(\u001b[49m\u001b[43mcolumns\u001b[49m\u001b[38;5;241;43m=\u001b[39;49m\u001b[43m[\u001b[49m\u001b[38;5;124;43m'\u001b[39;49m\u001b[38;5;124;43mtime_y\u001b[39;49m\u001b[38;5;124;43m'\u001b[39;49m\u001b[43m]\u001b[49m\u001b[43m)\u001b[49m\n",
      "File \u001b[1;32mc:\\Users\\ana\\AppData\\Local\\Programs\\Python\\Python312\\Lib\\site-packages\\pandas\\core\\frame.py:5581\u001b[0m, in \u001b[0;36mDataFrame.drop\u001b[1;34m(self, labels, axis, index, columns, level, inplace, errors)\u001b[0m\n\u001b[0;32m   5433\u001b[0m \u001b[38;5;28;01mdef\u001b[39;00m \u001b[38;5;21mdrop\u001b[39m(\n\u001b[0;32m   5434\u001b[0m     \u001b[38;5;28mself\u001b[39m,\n\u001b[0;32m   5435\u001b[0m     labels: IndexLabel \u001b[38;5;241m|\u001b[39m \u001b[38;5;28;01mNone\u001b[39;00m \u001b[38;5;241m=\u001b[39m \u001b[38;5;28;01mNone\u001b[39;00m,\n\u001b[1;32m   (...)\u001b[0m\n\u001b[0;32m   5442\u001b[0m     errors: IgnoreRaise \u001b[38;5;241m=\u001b[39m \u001b[38;5;124m\"\u001b[39m\u001b[38;5;124mraise\u001b[39m\u001b[38;5;124m\"\u001b[39m,\n\u001b[0;32m   5443\u001b[0m ) \u001b[38;5;241m-\u001b[39m\u001b[38;5;241m>\u001b[39m DataFrame \u001b[38;5;241m|\u001b[39m \u001b[38;5;28;01mNone\u001b[39;00m:\n\u001b[0;32m   5444\u001b[0m \u001b[38;5;250m    \u001b[39m\u001b[38;5;124;03m\"\"\"\u001b[39;00m\n\u001b[0;32m   5445\u001b[0m \u001b[38;5;124;03m    Drop specified labels from rows or columns.\u001b[39;00m\n\u001b[0;32m   5446\u001b[0m \n\u001b[1;32m   (...)\u001b[0m\n\u001b[0;32m   5579\u001b[0m \u001b[38;5;124;03m            weight  1.0     0.8\u001b[39;00m\n\u001b[0;32m   5580\u001b[0m \u001b[38;5;124;03m    \"\"\"\u001b[39;00m\n\u001b[1;32m-> 5581\u001b[0m     \u001b[38;5;28;01mreturn\u001b[39;00m \u001b[38;5;28;43msuper\u001b[39;49m\u001b[43m(\u001b[49m\u001b[43m)\u001b[49m\u001b[38;5;241;43m.\u001b[39;49m\u001b[43mdrop\u001b[49m\u001b[43m(\u001b[49m\n\u001b[0;32m   5582\u001b[0m \u001b[43m        \u001b[49m\u001b[43mlabels\u001b[49m\u001b[38;5;241;43m=\u001b[39;49m\u001b[43mlabels\u001b[49m\u001b[43m,\u001b[49m\n\u001b[0;32m   5583\u001b[0m \u001b[43m        \u001b[49m\u001b[43maxis\u001b[49m\u001b[38;5;241;43m=\u001b[39;49m\u001b[43maxis\u001b[49m\u001b[43m,\u001b[49m\n\u001b[0;32m   5584\u001b[0m \u001b[43m        \u001b[49m\u001b[43mindex\u001b[49m\u001b[38;5;241;43m=\u001b[39;49m\u001b[43mindex\u001b[49m\u001b[43m,\u001b[49m\n\u001b[0;32m   5585\u001b[0m \u001b[43m        \u001b[49m\u001b[43mcolumns\u001b[49m\u001b[38;5;241;43m=\u001b[39;49m\u001b[43mcolumns\u001b[49m\u001b[43m,\u001b[49m\n\u001b[0;32m   5586\u001b[0m \u001b[43m        \u001b[49m\u001b[43mlevel\u001b[49m\u001b[38;5;241;43m=\u001b[39;49m\u001b[43mlevel\u001b[49m\u001b[43m,\u001b[49m\n\u001b[0;32m   5587\u001b[0m \u001b[43m        \u001b[49m\u001b[43minplace\u001b[49m\u001b[38;5;241;43m=\u001b[39;49m\u001b[43minplace\u001b[49m\u001b[43m,\u001b[49m\n\u001b[0;32m   5588\u001b[0m \u001b[43m        \u001b[49m\u001b[43merrors\u001b[49m\u001b[38;5;241;43m=\u001b[39;49m\u001b[43merrors\u001b[49m\u001b[43m,\u001b[49m\n\u001b[0;32m   5589\u001b[0m \u001b[43m    \u001b[49m\u001b[43m)\u001b[49m\n",
      "File \u001b[1;32mc:\\Users\\ana\\AppData\\Local\\Programs\\Python\\Python312\\Lib\\site-packages\\pandas\\core\\generic.py:4788\u001b[0m, in \u001b[0;36mNDFrame.drop\u001b[1;34m(self, labels, axis, index, columns, level, inplace, errors)\u001b[0m\n\u001b[0;32m   4786\u001b[0m \u001b[38;5;28;01mfor\u001b[39;00m axis, labels \u001b[38;5;129;01min\u001b[39;00m axes\u001b[38;5;241m.\u001b[39mitems():\n\u001b[0;32m   4787\u001b[0m     \u001b[38;5;28;01mif\u001b[39;00m labels \u001b[38;5;129;01mis\u001b[39;00m \u001b[38;5;129;01mnot\u001b[39;00m \u001b[38;5;28;01mNone\u001b[39;00m:\n\u001b[1;32m-> 4788\u001b[0m         obj \u001b[38;5;241m=\u001b[39m \u001b[43mobj\u001b[49m\u001b[38;5;241;43m.\u001b[39;49m\u001b[43m_drop_axis\u001b[49m\u001b[43m(\u001b[49m\u001b[43mlabels\u001b[49m\u001b[43m,\u001b[49m\u001b[43m \u001b[49m\u001b[43maxis\u001b[49m\u001b[43m,\u001b[49m\u001b[43m \u001b[49m\u001b[43mlevel\u001b[49m\u001b[38;5;241;43m=\u001b[39;49m\u001b[43mlevel\u001b[49m\u001b[43m,\u001b[49m\u001b[43m \u001b[49m\u001b[43merrors\u001b[49m\u001b[38;5;241;43m=\u001b[39;49m\u001b[43merrors\u001b[49m\u001b[43m)\u001b[49m\n\u001b[0;32m   4790\u001b[0m \u001b[38;5;28;01mif\u001b[39;00m inplace:\n\u001b[0;32m   4791\u001b[0m     \u001b[38;5;28mself\u001b[39m\u001b[38;5;241m.\u001b[39m_update_inplace(obj)\n",
      "File \u001b[1;32mc:\\Users\\ana\\AppData\\Local\\Programs\\Python\\Python312\\Lib\\site-packages\\pandas\\core\\generic.py:4830\u001b[0m, in \u001b[0;36mNDFrame._drop_axis\u001b[1;34m(self, labels, axis, level, errors, only_slice)\u001b[0m\n\u001b[0;32m   4828\u001b[0m         new_axis \u001b[38;5;241m=\u001b[39m axis\u001b[38;5;241m.\u001b[39mdrop(labels, level\u001b[38;5;241m=\u001b[39mlevel, errors\u001b[38;5;241m=\u001b[39merrors)\n\u001b[0;32m   4829\u001b[0m     \u001b[38;5;28;01melse\u001b[39;00m:\n\u001b[1;32m-> 4830\u001b[0m         new_axis \u001b[38;5;241m=\u001b[39m \u001b[43maxis\u001b[49m\u001b[38;5;241;43m.\u001b[39;49m\u001b[43mdrop\u001b[49m\u001b[43m(\u001b[49m\u001b[43mlabels\u001b[49m\u001b[43m,\u001b[49m\u001b[43m \u001b[49m\u001b[43merrors\u001b[49m\u001b[38;5;241;43m=\u001b[39;49m\u001b[43merrors\u001b[49m\u001b[43m)\u001b[49m\n\u001b[0;32m   4831\u001b[0m     indexer \u001b[38;5;241m=\u001b[39m axis\u001b[38;5;241m.\u001b[39mget_indexer(new_axis)\n\u001b[0;32m   4833\u001b[0m \u001b[38;5;66;03m# Case for non-unique axis\u001b[39;00m\n\u001b[0;32m   4834\u001b[0m \u001b[38;5;28;01melse\u001b[39;00m:\n",
      "File \u001b[1;32mc:\\Users\\ana\\AppData\\Local\\Programs\\Python\\Python312\\Lib\\site-packages\\pandas\\core\\indexes\\base.py:7070\u001b[0m, in \u001b[0;36mIndex.drop\u001b[1;34m(self, labels, errors)\u001b[0m\n\u001b[0;32m   7068\u001b[0m \u001b[38;5;28;01mif\u001b[39;00m mask\u001b[38;5;241m.\u001b[39many():\n\u001b[0;32m   7069\u001b[0m     \u001b[38;5;28;01mif\u001b[39;00m errors \u001b[38;5;241m!=\u001b[39m \u001b[38;5;124m\"\u001b[39m\u001b[38;5;124mignore\u001b[39m\u001b[38;5;124m\"\u001b[39m:\n\u001b[1;32m-> 7070\u001b[0m         \u001b[38;5;28;01mraise\u001b[39;00m \u001b[38;5;167;01mKeyError\u001b[39;00m(\u001b[38;5;124mf\u001b[39m\u001b[38;5;124m\"\u001b[39m\u001b[38;5;132;01m{\u001b[39;00mlabels[mask]\u001b[38;5;241m.\u001b[39mtolist()\u001b[38;5;132;01m}\u001b[39;00m\u001b[38;5;124m not found in axis\u001b[39m\u001b[38;5;124m\"\u001b[39m)\n\u001b[0;32m   7071\u001b[0m     indexer \u001b[38;5;241m=\u001b[39m indexer[\u001b[38;5;241m~\u001b[39mmask]\n\u001b[0;32m   7072\u001b[0m \u001b[38;5;28;01mreturn\u001b[39;00m \u001b[38;5;28mself\u001b[39m\u001b[38;5;241m.\u001b[39mdelete(indexer)\n",
      "\u001b[1;31mKeyError\u001b[0m: \"['time_y'] not found in axis\""
     ]
    }
   ],
   "source": [
    "# drop time_y\n",
    "sections = sections.drop(columns=['time_y'])"
   ]
  },
  {
   "cell_type": "code",
   "execution_count": 19,
   "metadata": {},
   "outputs": [],
   "source": [
    "# rename time_x to time\n",
    "sections = sections.rename(columns={'time_x': 'time'})"
   ]
  },
  {
   "cell_type": "code",
   "execution_count": 37,
   "metadata": {},
   "outputs": [],
   "source": [
    "# Assign colors to the blocks based on the time it takes to reach the nearest POI\n",
    "sections.loc[sections['time'] < 3, 'block_color'] = '#00572a'  # Dark Green\n",
    "sections.loc[(sections['time'] >= 3) & (sections['time'] < 6), 'block_color'] = '#7CB342'  # Green\n",
    "sections.loc[(sections['time'] >= 6) & (sections['time'] < 10), 'block_color'] = '#FFFF00'  # Yellow\n",
    "sections.loc[(sections['time'] >= 10) & (sections['time'] < 15), 'block_color'] = '#FFA500'  # Orange\n",
    "sections.loc[(sections['time'] >= 15) & (sections['time'] < 20), 'block_color'] = '#D50000'  # Red\n",
    "sections.loc[(sections['time'] >= 20) & (sections['time'] < 25), 'block_color'] = '#8f0340'  # Dark red\n",
    "sections.loc[sections['time'] >= 25, 'block_color'] = '#6a1717'  # Purple"
   ]
  },
  {
   "cell_type": "code",
   "execution_count": 38,
   "metadata": {},
   "outputs": [
    {
     "name": "stdout",
     "output_type": "stream",
     "text": [
      "        CUSEC  CUMUN Seccion Distrito    CUDIS     Municipio  \\\n",
      "0  2000101001  20001     001       01  2000101  Abaltzisketa   \n",
      "1  2000201001  20002     001       01  2000201         Aduna   \n",
      "2  2000301001  20003     001       01  2000301  Aizarnazabal   \n",
      "3  2000401001  20004     001       01  2000401      Albiztur   \n",
      "4  2000501001  20005     001       01  2000501        Alegia   \n",
      "\n",
      "                                            geometry       time block_color  \n",
      "0  MULTIPOLYGON (((-2.09892 43.06533, -2.0989 43....  35.623082     #6a1717  \n",
      "1  MULTIPOLYGON (((-2.03912 43.2023, -2.03915 43....  21.999012     #8f0340  \n",
      "2  MULTIPOLYGON (((-2.20725 43.27294, -2.20714 43...  33.403964     #6a1717  \n",
      "3  MULTIPOLYGON (((-2.11304 43.1257, -2.11322 43....  33.878480     #6a1717  \n",
      "4  MULTIPOLYGON (((-2.09007 43.1124, -2.08947 43....  28.624581     #6a1717  \n"
     ]
    }
   ],
   "source": [
    "print(sections.head())"
   ]
  },
  {
   "cell_type": "code",
   "execution_count": 39,
   "metadata": {},
   "outputs": [],
   "source": [
    "# rename block_color to color_1_walk\n",
    "sections = sections.rename(columns={'block_color': 'color_1_walk'})"
   ]
  },
  {
   "cell_type": "code",
   "execution_count": 40,
   "metadata": {},
   "outputs": [],
   "source": [
    "# save to geojson\n",
    "sections.to_file(\"assets/sections_colores.geojson\", driver='GeoJSON')"
   ]
  },
  {
   "cell_type": "code",
   "execution_count": null,
   "metadata": {},
   "outputs": [],
   "source": [
    "# create folium map\n",
    "import folium\n",
    "\n",
    "m = folium.Map(location=[43.3, -2], zoom_start=11)\n",
    "\n",
    "folium.Choropleth(\n",
    "    geo_data=\"assets/sections_colores.geojson\",\n",
    "    name='choropleth',\n",
    "    data=sections,\n",
    "    columns=['CUSEC', 'time'],\n",
    "    key_on='feature.properties.CUSEC',\n",
    "    fill_color='YlGnBu',\n",
    "    fill_opacity=0.7,\n",
    "    line_opacity=0.2,\n",
    "    legend_name='Time to nearest POI'\n",
    ").add_to(m)\n",
    "\n",
    "# Add CircleMarkers for POIs\n",
    "for index, row in poi.iterrows():\n",
    "    folium.CircleMarker(\n",
    "        location=[row['lat'], row['lon']],\n",
    "        radius=5,\n",
    "        color='blue',\n",
    "        fill=True,\n",
    "        fill_color='blue',\n",
    "        fill_opacity=0.6\n",
    "    ).add_to(m)\n",
    "\n",
    "# Add a custom legend\n",
    "legend_html = \"\"\"\n",
    "<div style=\"position: fixed; \n",
    "     bottom: 50px; left: 50px; width: 200px; height: 220px; \n",
    "     border:2px solid grey; z-index:9999; font-size:14px;\n",
    "     background-color:white; padding: 10px;\">\n",
    "     <b>Drive time to hospitals</b><br>\n",
    "     <div style=\"background-color:#00572a; width: 20px; height: 20px; display:inline-block;\"></div> <span>Less than 3 min</span><br>\n",
    "     <div style=\"background-color:#7CB342; width: 20px; height: 20px; display:inline-block;\"></div> <span>3 - 6 min</span><br>\n",
    "     <div style=\"background-color:#FFFF00; width: 20px; height: 20px; display:inline-block;\"></div> <span>6 - 10 min</span><br>\n",
    "     <div style=\"background-color:#FFA500; width: 20px; height: 20px; display:inline-block;\"></div> <span>10 - 15 min</span><br>\n",
    "     <div style=\"background-color:#D50000; width: 20px; height: 20px; display:inline-block;\"></div> <span>15 - 20 min</span><br>\n",
    "     <div style=\"background-color:#8f0340; width: 20px; height: 20px; display:inline-block;\"></div> <span>20 - 25 min</span><br>\n",
    "     <div style=\"background-color:#6a1717; width: 20px; height: 20px; display:inline-block;\"></div> <span>More than 25 min</span><br>\n",
    "</div>\n",
    "\"\"\"\n",
    "\n",
    "m.get_root().html.add_child(folium.Element(legend_html))\n",
    "\n",
    "# Save the map as an HTML file\n",
    "m.save('hospital_dark_drive.html')"
   ]
  }
 ],
 "metadata": {
  "kernelspec": {
   "display_name": "Python 3",
   "language": "python",
   "name": "python3"
  },
  "language_info": {
   "codemirror_mode": {
    "name": "ipython",
    "version": 3
   },
   "file_extension": ".py",
   "mimetype": "text/x-python",
   "name": "python",
   "nbconvert_exporter": "python",
   "pygments_lexer": "ipython3",
   "version": "3.12.3"
  }
 },
 "nbformat": 4,
 "nbformat_minor": 2
}
