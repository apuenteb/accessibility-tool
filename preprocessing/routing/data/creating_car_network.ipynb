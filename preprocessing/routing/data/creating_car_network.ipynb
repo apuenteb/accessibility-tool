{
 "cells": [
  {
   "cell_type": "markdown",
   "metadata": {},
   "source": [
    "This notebook contains the steps I followed to create a correct G drive"
   ]
  },
  {
   "cell_type": "code",
   "execution_count": 1,
   "metadata": {},
   "outputs": [
    {
     "name": "stdout",
     "output_type": "stream",
     "text": [
      "Edges: EPSG:4326\n",
      "Nodes: EPSG:4326\n"
     ]
    }
   ],
   "source": [
    "import geopandas as gpd\n",
    "import pandas as pd\n",
    "\n",
    "edges = gpd.read_file('../geojson/gipuzkoa_drive_edges.geojson')\n",
    "nodes = gpd.read_file('../geojson/gipuzkoa_drive_nodes.geojson')\n",
    "\n",
    "print('Edges:', edges.crs)\n",
    "print('Nodes:', nodes.crs)"
   ]
  },
  {
   "cell_type": "code",
   "execution_count": 2,
   "metadata": {},
   "outputs": [
    {
     "name": "stdout",
     "output_type": "stream",
     "text": [
      "    osmid          y         x  street_count highway   ref  \\\n",
      "0  448001  43.179563 -2.489983             3    None  None   \n",
      "1  448006  43.182655 -2.481422             4    None  None   \n",
      "2  451289  43.192781 -2.438172             3    None  None   \n",
      "3  469503  43.191805 -2.451204             3    None  None   \n",
      "4  469506  43.191796 -2.452494             3    None  None   \n",
      "\n",
      "                    geometry  \n",
      "0  POINT (-2.48998 43.17956)  \n",
      "1  POINT (-2.48142 43.18266)  \n",
      "2  POINT (-2.43817 43.19278)  \n",
      "3    POINT (-2.4512 43.1918)  \n",
      "4   POINT (-2.45249 43.1918)  \n",
      "        u           v  key                            osmid  oneway reversed  \\\n",
      "0  448001  3934729820    0                         44716332   False    False   \n",
      "1  448001      916343    0                       1009087270   False     True   \n",
      "2  448006    25433518    0                         21770157   False    False   \n",
      "3  448006   299660335    0                         44580274    True    False   \n",
      "4  451289  5674243805    0  [ 71321937, 4358223, 10672063 ]   False     True   \n",
      "\n",
      "    length junction  maxspeed     time_s  \\\n",
      "0  113.604     None        30  13.632480   \n",
      "1   42.152     None        30   5.058240   \n",
      "2   77.905     None        30   9.348600   \n",
      "3  229.730     None        30  27.567600   \n",
      "4  907.995     None        70  46.696886   \n",
      "\n",
      "                                            geometry  \n",
      "0  LINESTRING (-2.48998 43.17956, -2.48987 43.179...  \n",
      "1  LINESTRING (-2.48998 43.17956, -2.49014 43.179...  \n",
      "2  LINESTRING (-2.48142 43.18266, -2.48134 43.182...  \n",
      "3  LINESTRING (-2.48142 43.18266, -2.48094 43.182...  \n",
      "4  LINESTRING (-2.43817 43.19278, -2.43848 43.192...  \n"
     ]
    }
   ],
   "source": [
    "print(nodes.head())\n",
    "print(edges.head())"
   ]
  },
  {
   "cell_type": "code",
   "execution_count": 3,
   "metadata": {},
   "outputs": [
    {
     "name": "stdout",
     "output_type": "stream",
     "text": [
      "        u           v  key                            osmid  oneway reversed  \\\n",
      "0  448001  3934729820    0                         44716332   False    False   \n",
      "1  448001      916343    0                       1009087270   False     True   \n",
      "2  448006    25433518    0                         21770157   False    False   \n",
      "3  448006   299660335    0                         44580274    True    False   \n",
      "4  451289  5674243805    0  [ 71321937, 4358223, 10672063 ]   False     True   \n",
      "\n",
      "    length junction  maxspeed     time_s  \\\n",
      "0  113.604     None        30  13.632480   \n",
      "1   42.152     None        30   5.058240   \n",
      "2   77.905     None        30   9.348600   \n",
      "3  229.730     None        30  27.567600   \n",
      "4  907.995     None        70  46.696886   \n",
      "\n",
      "                                            geometry  \\\n",
      "0  LINESTRING (-2.48998 43.17956, -2.48987 43.179...   \n",
      "1  LINESTRING (-2.48998 43.17956, -2.49014 43.179...   \n",
      "2  LINESTRING (-2.48142 43.18266, -2.48134 43.182...   \n",
      "3  LINESTRING (-2.48142 43.18266, -2.48094 43.182...   \n",
      "4  LINESTRING (-2.43817 43.19278, -2.43848 43.192...   \n",
      "\n",
      "                 start_point                  end_point  \n",
      "0  POINT (-2.48998 43.17956)  POINT (-2.48871 43.17994)  \n",
      "1  POINT (-2.48998 43.17956)  POINT (-2.49025 43.17924)  \n",
      "2  POINT (-2.48142 43.18266)  POINT (-2.48082 43.18214)  \n",
      "3  POINT (-2.48142 43.18266)  POINT (-2.47882 43.18346)  \n",
      "4  POINT (-2.43817 43.19278)  POINT (-2.44872 43.19134)  \n"
     ]
    }
   ],
   "source": [
    "from shapely.geometry import Point\n",
    "\n",
    "# Create start and end points for each edge\n",
    "edges['start_point'] = edges['geometry'].apply(lambda x: Point(x.coords[0]))\n",
    "edges['end_point'] = edges['geometry'].apply(lambda x: Point(x.coords[-1]))\n",
    "\n",
    "# Check the resulting columns\n",
    "print(edges.head())"
   ]
  },
  {
   "cell_type": "code",
   "execution_count": 4,
   "metadata": {},
   "outputs": [],
   "source": [
    "from scipy.spatial import cKDTree\n",
    "import numpy as np\n",
    "\n",
    "# Build the cKDTree for the nodes (for efficient nearest-neighbor search)\n",
    "nodes['coords'] = list(zip(nodes.geometry.x, nodes.geometry.y))\n",
    "node_tree = cKDTree(np.array(nodes['coords'].tolist()))\n",
    "\n",
    "# Function to find nearest node\n",
    "def get_nearest_node(point):\n",
    "    dist, index = node_tree.query([point.x, point.y])\n",
    "    return nodes.iloc[index]['osmid']\n",
    "\n",
    "# Find the nearest node for each start and end point\n",
    "edges['nearest_node_start'] = edges['start_point'].apply(get_nearest_node)\n",
    "edges['nearest_node_end'] = edges['end_point'].apply(get_nearest_node)"
   ]
  },
  {
   "cell_type": "code",
   "execution_count": 5,
   "metadata": {},
   "outputs": [
    {
     "name": "stdout",
     "output_type": "stream",
     "text": [
      "Index(['u', 'v', 'key', 'osmid', 'oneway', 'reversed', 'length', 'junction',\n",
      "       'maxspeed', 'time_s', 'geometry', 'start_point', 'end_point',\n",
      "       'nearest_node_start', 'nearest_node_end'],\n",
      "      dtype='object')\n"
     ]
    }
   ],
   "source": [
    "print(edges.columns)"
   ]
  },
  {
   "cell_type": "code",
   "execution_count": 46,
   "metadata": {},
   "outputs": [],
   "source": [
    "# drop edges start and end points\n",
    "edges = edges.drop(columns=['start_point', 'end_point'])\n",
    "edges.to_file('../geojson/gipuzkoa_drive_edges_nearest_nodes.geojson', driver='GeoJSON')\n",
    "nodes.to_file('../geojson/gipuzkoa_drive_nodes_nearest_nodes.geojson', driver='GeoJSON')"
   ]
  },
  {
   "cell_type": "code",
   "execution_count": 6,
   "metadata": {},
   "outputs": [],
   "source": [
    "import networkx as nx\n",
    "\n",
    "# Create a graph from your edges and nodes\n",
    "G = nx.DiGraph()  # Directed graph if the roads are one-way, or nx.Graph() for undirected\n",
    "\n",
    "# Add nodes to the graph\n",
    "for _, row in nodes.iterrows():\n",
    "    G.add_node(row['osmid'], x=row['x'], y=row['y'])\n",
    "\n",
    "# Add edges with multiple attributes\n",
    "for _, row in edges.iterrows():\n",
    "    u = row['nearest_node_start']\n",
    "    v = row['nearest_node_end']\n",
    "    time = row['time_s']\n",
    "    length = row['length']\n",
    "    maxspeed = row['maxspeed']\n",
    "    geometry = row['geometry']\n",
    "    \n",
    "    # Add edge with time, length, maxspeed, and geometry\n",
    "    G.add_edge(u, v, weight=time, length=length, maxspeed=maxspeed, geometry=geometry)"
   ]
  },
  {
   "cell_type": "code",
   "execution_count": 16,
   "metadata": {},
   "outputs": [],
   "source": [
    "o_lon, o_lat=-2.01578381790964,43.304574686941336\n",
    "#o_lon, o_lat=-1.9820539544817326,43.3196830982974\n",
    "d_lon, d_lat= -1.9687977669669718, 43.29232181880548\n",
    "\n",
    "# get nearest nodes\n",
    "orig_node = get_nearest_node(Point(o_lon, o_lat))\n",
    "dest_node = get_nearest_node(Point(d_lon, d_lat))"
   ]
  },
  {
   "cell_type": "code",
   "execution_count": 17,
   "metadata": {},
   "outputs": [
    {
     "name": "stdout",
     "output_type": "stream",
     "text": [
      "Total time: 516.494292 seconds\n",
      "Total time: 10.76029775 minutes\n"
     ]
    }
   ],
   "source": [
    "# find the shortest path\n",
    "route = nx.shortest_path(G, orig_node, dest_node, weight='time_s')\n",
    "\n",
    "# Get the geometry of the shortest path\n",
    "route_geom = []\n",
    "for i in range(len(route)-1):\n",
    "    u = route[i]\n",
    "    v = route[i+1]\n",
    "    route_geom.append(G[u][v]['geometry'])\n",
    "\n",
    "# Create a GeoDataFrame from the route geometry\n",
    "route_gdf = gpd.GeoDataFrame({'geometry': route_geom}, crs=edges.crs)\n",
    "\n",
    "# save the route to a file\n",
    "#route_gdf.to_file('../geojson/shortest_path.geojson', driver='GeoJSON')\n",
    "\n",
    "# show total time\n",
    "total_time = sum([G[u][v]['weight'] for u, v in zip(route[:-1], route[1:])])\n",
    "print('Total time:', total_time, 'seconds')\n",
    "\n",
    "# time to min (would add a 1.25 coef to account for the average speed, as it is not always the max speed)\n",
    "total_time = total_time/60\n",
    "print('Total time:', 1.25*total_time, 'minutes')"
   ]
  }
 ],
 "metadata": {
  "kernelspec": {
   "display_name": "Python 3",
   "language": "python",
   "name": "python3"
  },
  "language_info": {
   "codemirror_mode": {
    "name": "ipython",
    "version": 3
   },
   "file_extension": ".py",
   "mimetype": "text/x-python",
   "name": "python",
   "nbconvert_exporter": "python",
   "pygments_lexer": "ipython3",
   "version": "3.12.3"
  }
 },
 "nbformat": 4,
 "nbformat_minor": 2
}
