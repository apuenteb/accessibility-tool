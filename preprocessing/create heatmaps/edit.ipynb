{
 "cells": [
  {
   "cell_type": "code",
   "execution_count": 86,
   "metadata": {},
   "outputs": [],
   "source": [
    "import pandas as pd\n",
    "import geopandas as gpd\n",
    "\n",
    "# Read the Excel file from a specific sheet (replace 'SheetName' with your actual sheet name)\n",
    "df = pd.read_excel('renta_bruta_media_ppersona.xlsx', sheet_name='prest')\n",
    "\n",
    "# Convert the DataFrame to a GeoDataFrame without any geometry\n",
    "demog_gdf = gpd.GeoDataFrame(df)"
   ]
  },
  {
   "cell_type": "code",
   "execution_count": 87,
   "metadata": {},
   "outputs": [
    {
     "name": "stdout",
     "output_type": "stream",
     "text": [
      "   Unnamed: 0    Unnamed: 1  Renta neta media por persona  \\\n",
      "0       20001  Abaltzisketa                         18661   \n",
      "1     2000101  Abaltzisketa                         18661   \n",
      "2  2000101001  Abaltzisketa                         18661   \n",
      "3       20002         Aduna                         17693   \n",
      "4     2000201         Aduna                         17693   \n",
      "\n",
      "   Renta neta media por hogar Media de la renta por unidad de consumo  \\\n",
      "0                       51718                                   28504   \n",
      "1                       51718                                   28504   \n",
      "2                       51718                                   28504   \n",
      "3                       49640                                   27512   \n",
      "4                       49640                                   27512   \n",
      "\n",
      "   Renta bruta media por persona  Renta bruta media por hogar  \n",
      "0                          22222                        61587  \n",
      "1                          22222                        61587  \n",
      "2                          22222                        61587  \n",
      "3                          21359                        59925  \n",
      "4                          21359                        59925  \n"
     ]
    }
   ],
   "source": [
    "print(demog_gdf.head())"
   ]
  },
  {
   "cell_type": "code",
   "execution_count": 88,
   "metadata": {},
   "outputs": [],
   "source": [
    "# rename Unnamed: 0 to CUSEC\n",
    "demog_gdf.rename(columns={'Unnamed: 0': 'CUSEC'}, inplace=True)"
   ]
  },
  {
   "cell_type": "code",
   "execution_count": 89,
   "metadata": {},
   "outputs": [
    {
     "name": "stdout",
     "output_type": "stream",
     "text": [
      "Index(['CUSEC', 'Unnamed: 1', 'Renta neta media por persona',\n",
      "       'Renta neta media por hogar', 'Media de la renta por unidad de consumo',\n",
      "       'Renta bruta media por persona', 'Renta bruta media por hogar'],\n",
      "      dtype='object')\n"
     ]
    }
   ],
   "source": [
    "print(demog_gdf.columns)"
   ]
  },
  {
   "cell_type": "code",
   "execution_count": 90,
   "metadata": {},
   "outputs": [],
   "source": [
    "# drop Unnamed: 1 and Media de la renta por unidad de consumo\n",
    "demog_gdf.drop(columns=['Unnamed: 1', 'Media de la renta por unidad de consumo'], inplace=True)"
   ]
  },
  {
   "cell_type": "code",
   "execution_count": 91,
   "metadata": {},
   "outputs": [
    {
     "name": "stdout",
     "output_type": "stream",
     "text": [
      "        CUSEC  Renta neta media por persona  Renta neta media por hogar  \\\n",
      "0       20001                         18661                       51718   \n",
      "1     2000101                         18661                       51718   \n",
      "2  2000101001                         18661                       51718   \n",
      "3       20002                         17693                       49640   \n",
      "4     2000201                         17693                       49640   \n",
      "\n",
      "   Renta bruta media por persona  Renta bruta media por hogar  \n",
      "0                          22222                        61587  \n",
      "1                          22222                        61587  \n",
      "2                          22222                        61587  \n",
      "3                          21359                        59925  \n",
      "4                          21359                        59925  \n"
     ]
    }
   ],
   "source": [
    "print(demog_gdf.head())"
   ]
  },
  {
   "cell_type": "code",
   "execution_count": 92,
   "metadata": {},
   "outputs": [
    {
     "name": "stdout",
     "output_type": "stream",
     "text": [
      "          CUSEC  Renta neta media por persona  Renta neta media por hogar  \\\n",
      "2    2000101001                         18661                       51718   \n",
      "5    2000201001                         17693                       49640   \n",
      "8    2000301001                         16215                       41396   \n",
      "11   2000401001                         17366                       47033   \n",
      "14   2000501001                         15539                       38209   \n",
      "..          ...                           ...                         ...   \n",
      "743  2090301004                         18218                       48170   \n",
      "746  2090401001                         17317                       53756   \n",
      "749  2090501001                         20013                       57179   \n",
      "752  2090601001                         16777                       47580   \n",
      "755  2090701001                         15001                       34933   \n",
      "\n",
      "     Renta bruta media por persona  Renta bruta media por hogar  \n",
      "2                            22222                        61587  \n",
      "5                            21359                        59925  \n",
      "8                            19258                        49164  \n",
      "11                           20665                        55967  \n",
      "14                           18224                        44813  \n",
      "..                             ...                          ...  \n",
      "743                          21940                        58014  \n",
      "746                          21169                        65711  \n",
      "749                          24418                        69766  \n",
      "752                          19856                        56314  \n",
      "755                          17465                        40672  \n",
      "\n",
      "[548 rows x 5 columns]\n"
     ]
    }
   ],
   "source": [
    "# from seccion just keep the rows over 2000000000\n",
    "demog_gdf = demog_gdf[demog_gdf['CUSEC'] > 2000000000]\n",
    "print(demog_gdf)"
   ]
  },
  {
   "cell_type": "code",
   "execution_count": 93,
   "metadata": {},
   "outputs": [
    {
     "name": "stdout",
     "output_type": "stream",
     "text": [
      "        CUSEC  Renta neta media por persona  Renta neta media por hogar  \\\n",
      "0  2000101001                         18661                       51718   \n",
      "1  2000201001                         17693                       49640   \n",
      "2  2000301001                         16215                       41396   \n",
      "3  2000401001                         17366                       47033   \n",
      "4  2000501001                         15539                       38209   \n",
      "\n",
      "   Renta bruta media por persona  Renta bruta media por hogar  \n",
      "0                          22222                        61587  \n",
      "1                          21359                        59925  \n",
      "2                          19258                        49164  \n",
      "3                          20665                        55967  \n",
      "4                          18224                        44813  \n"
     ]
    }
   ],
   "source": [
    "# reset index\n",
    "demog_gdf.reset_index(drop=True, inplace=True)\n",
    "print(demog_gdf.head())"
   ]
  },
  {
   "cell_type": "code",
   "execution_count": 95,
   "metadata": {},
   "outputs": [
    {
     "name": "stdout",
     "output_type": "stream",
     "text": [
      "        CUSEC  Europa  Africa  Asia  América  Oceanía  Total_inmigrants  \\\n",
      "0  2000101001       3      18     1        2        0                24   \n",
      "1  2000201001       7       1     0        9        0                17   \n",
      "2  2000301001      14      10     6       18        0                48   \n",
      "3  2000401001       6       0     0        4        0                10   \n",
      "4  2000501001      59      96    15       52        0               222   \n",
      "\n",
      "   Total_population  20-34 años  85+ años  \n",
      "0               326          49         7  \n",
      "1               505          70        17  \n",
      "2               771          82        14  \n",
      "3               325          36         9  \n",
      "4              1768         268        65  \n"
     ]
    }
   ],
   "source": [
    "# read demografia.csv\n",
    "demog_csv = pd.read_csv('demografia.csv', sep=',')\n",
    "print(demog_csv.head())"
   ]
  },
  {
   "cell_type": "code",
   "execution_count": 96,
   "metadata": {},
   "outputs": [
    {
     "name": "stdout",
     "output_type": "stream",
     "text": [
      "        CUSEC  Europa  Africa  Asia  América  Oceanía  Total_inmigrants  \\\n",
      "0  2000101001       3      18     1        2        0                24   \n",
      "1  2000201001       7       1     0        9        0                17   \n",
      "2  2000301001      14      10     6       18        0                48   \n",
      "3  2000401001       6       0     0        4        0                10   \n",
      "4  2000501001      59      96    15       52        0               222   \n",
      "\n",
      "   Total_population  20-34 años  85+ años  Renta neta media por persona  \\\n",
      "0               326          49         7                         18661   \n",
      "1               505          70        17                         17693   \n",
      "2               771          82        14                         16215   \n",
      "3               325          36         9                         17366   \n",
      "4              1768         268        65                         15539   \n",
      "\n",
      "   Renta neta media por hogar  Renta bruta media por persona  \\\n",
      "0                       51718                          22222   \n",
      "1                       49640                          21359   \n",
      "2                       41396                          19258   \n",
      "3                       47033                          20665   \n",
      "4                       38209                          18224   \n",
      "\n",
      "   Renta bruta media por hogar  \n",
      "0                        61587  \n",
      "1                        59925  \n",
      "2                        49164  \n",
      "3                        55967  \n",
      "4                        44813  \n"
     ]
    }
   ],
   "source": [
    "# add demog_gdf to demog_csv by CUSEC\n",
    "demog_csv = demog_csv.merge(demog_gdf, on='CUSEC', how='left')\n",
    "print(demog_csv.head())"
   ]
  },
  {
   "cell_type": "code",
   "execution_count": 66,
   "metadata": {},
   "outputs": [
    {
     "name": "stdout",
     "output_type": "stream",
     "text": [
      "        CUSEC  Europa  Africa  Asia  América  Oceanía  Total_inmigrants  \\\n",
      "0  2000101001       3      18     1        2        0                24   \n",
      "1  2000201001       7       1     0        9        0                17   \n",
      "2  2000301001      14      10     6       18        0                48   \n",
      "3  2000401001       6       0     0        4        0                10   \n",
      "4  2000501001      59      96    15       52        0               222   \n",
      "\n",
      "   Total_population  20-34 años  85+ años  \n",
      "0               326          49         7  \n",
      "1               505          70        17  \n",
      "2               771          82        14  \n",
      "3               325          36         9  \n",
      "4              1768         268        65  \n"
     ]
    }
   ],
   "source": [
    "# rename total to Total_population\n",
    "demog_csv.rename(columns={'Total': 'Total_population'}, inplace=True)\n",
    "print(demog_csv.head())"
   ]
  },
  {
   "cell_type": "code",
   "execution_count": 97,
   "metadata": {},
   "outputs": [],
   "source": [
    "# save to file\n",
    "demog_csv.to_csv('demografia.csv', index=False)"
   ]
  },
  {
   "cell_type": "code",
   "execution_count": 26,
   "metadata": {},
   "outputs": [
    {
     "name": "stdout",
     "output_type": "stream",
     "text": [
      "  Referencia       CUSEC  CUMUN Seccion Distrito    CUDIS  \\\n",
      "0    8594095  2006907027  20069     027       07  2006907   \n",
      "1    8594099  2006907027  20069     027       07  2006907   \n",
      "2    8594100  2006907027  20069     027       07  2006907   \n",
      "3    8796114  2006907023  20069     023       07  2006907   \n",
      "4    8796136  2006907023  20069     023       07  2006907   \n",
      "\n",
      "                 Municipio biblioteca_walk biblioteca_bike biblioteca_car  \\\n",
      "0  Donostia/San SebastiÃ¡n         #FFFF00         #7CB342        #00572a   \n",
      "1  Donostia/San SebastiÃ¡n         #FFFF00         #7CB342        #00572a   \n",
      "2  Donostia/San SebastiÃ¡n         #FFFF00         #7CB342        #00572a   \n",
      "3  Donostia/San SebastiÃ¡n         #00572a         #00572a        #00572a   \n",
      "4  Donostia/San SebastiÃ¡n         #00572a         #00572a        #00572a   \n",
      "\n",
      "   ... wholesale_pt urban_walk urban_bike urban_car urban_pt  \\\n",
      "0  ...      #7CB342    #FFFF00    #7CB342   #00572a  #7CB342   \n",
      "1  ...      #7CB342    #FFFF00    #7CB342   #00572a  #7CB342   \n",
      "2  ...      #7CB342    #FFFF00    #7CB342   #00572a  #7CB342   \n",
      "3  ...      #7CB342    #00572a    #00572a   #00572a  #00572a   \n",
      "4  ...      #D50000    #00572a    #00572a   #00572a  #00572a   \n",
      "\n",
      "  spectator_sports_walk spectator_sports_bike spectator_sports_car  \\\n",
      "0               #8f0340               #FFFF00              #7CB342   \n",
      "1               #8f0340               #FFFF00              #7CB342   \n",
      "2               #8f0340               #FFFF00              #7CB342   \n",
      "3               #8f0340               #FFA500              #7CB342   \n",
      "4               #D50000               #FFFF00              #7CB342   \n",
      "\n",
      "  spectator_sports_pt                                           geometry  \n",
      "0             #FFFF00  MULTIPOLYGON (((-1.948346165263373 43.29970665...  \n",
      "1             #FFFF00  MULTIPOLYGON (((-1.948280159751243 43.29885615...  \n",
      "2             #FFFF00  MULTIPOLYGON (((-1.947943362087072 43.29850844...  \n",
      "3             #FFFF00  MULTIPOLYGON (((-1.927933611719779 43.31524499...  \n",
      "4             #FFFF00  MULTIPOLYGON (((-1.928850477621204 43.31418435...  \n",
      "\n",
      "[5 rows x 328 columns]\n"
     ]
    }
   ],
   "source": [
    "buildings =gpd.read_file('../../assets/csv_files/buildings_by_section.csv')\n",
    "print(buildings.head())"
   ]
  },
  {
   "cell_type": "code",
   "execution_count": null,
   "metadata": {},
   "outputs": [],
   "source": [
    "buildings['renta_neta_persona']=None\n",
    "buildings['renta_neta_hogar']=None\n",
    "buildings['renta_bruta_persona']=None\n",
    "buildings['renta_bruta_hogar']=None"
   ]
  },
  {
   "cell_type": "code",
   "execution_count": 107,
   "metadata": {},
   "outputs": [],
   "source": [
    "# for Total column in gdf, assign a float value from 0.1 to 1 according to the Total Number (e.g. the max value should have a 1)\n",
    "# the number assigned is the opacity\n",
    "demog_gdf['Renta bruta media por persona']=demog_gdf['Renta bruta media por persona'].astype(float)\n",
    "demog_gdf['Renta bruta media por persona']=demog_gdf['Renta bruta media por persona']/demog_gdf['Renta bruta media por persona'].max()"
   ]
  },
  {
   "cell_type": "code",
   "execution_count": 108,
   "metadata": {},
   "outputs": [
    {
     "name": "stdout",
     "output_type": "stream",
     "text": [
      "        CUSEC  Renta neta media por persona  Renta neta media por hogar  \\\n",
      "0  2000101001                      0.536775                    0.526547   \n",
      "1  2000201001                      0.508931                    0.505391   \n",
      "2  2000301001                      0.466417                    0.421458   \n",
      "3  2000401001                      0.499525                    0.478849   \n",
      "4  2000501001                      0.446973                    0.389010   \n",
      "\n",
      "   Renta bruta media por persona  Renta bruta media por hogar  \n",
      "0                       0.434949                     0.429585  \n",
      "1                       0.418058                     0.417992  \n",
      "2                       0.376935                     0.342931  \n",
      "3                       0.404474                     0.390384  \n",
      "4                       0.356697                     0.312582  \n"
     ]
    }
   ],
   "source": [
    "print(demog_gdf.head())"
   ]
  },
  {
   "cell_type": "code",
   "execution_count": 105,
   "metadata": {},
   "outputs": [],
   "source": [
    "demog_gdf['CUSEC'] = demog_gdf['CUSEC'].astype(str)"
   ]
  },
  {
   "cell_type": "code",
   "execution_count": 109,
   "metadata": {},
   "outputs": [
    {
     "name": "stdout",
     "output_type": "stream",
     "text": [
      "  Referencia       CUSEC  CUMUN Seccion Distrito    CUDIS  \\\n",
      "0    8594095  2006907027  20069     027       07  2006907   \n",
      "1    8594099  2006907027  20069     027       07  2006907   \n",
      "2    8594100  2006907027  20069     027       07  2006907   \n",
      "3    8796114  2006907023  20069     023       07  2006907   \n",
      "4    8796136  2006907023  20069     023       07  2006907   \n",
      "\n",
      "                 Municipio biblioteca_walk biblioteca_bike biblioteca_car  \\\n",
      "0  Donostia/San SebastiÃ¡n         #FFFF00         #7CB342        #00572a   \n",
      "1  Donostia/San SebastiÃ¡n         #FFFF00         #7CB342        #00572a   \n",
      "2  Donostia/San SebastiÃ¡n         #FFFF00         #7CB342        #00572a   \n",
      "3  Donostia/San SebastiÃ¡n         #00572a         #00572a        #00572a   \n",
      "4  Donostia/San SebastiÃ¡n         #00572a         #00572a        #00572a   \n",
      "\n",
      "   ... america_inmigrants oceania_inmigrants total_inmigrants total_pop  \\\n",
      "0  ...            0.55914                0.0         0.330389  0.784343   \n",
      "1  ...            0.55914                0.0         0.330389  0.784343   \n",
      "2  ...            0.55914                0.0         0.330389  0.784343   \n",
      "3  ...           0.462366                0.0         0.293286  0.500369   \n",
      "4  ...           0.462366                0.0         0.293286  0.500369   \n",
      "\n",
      "      20_34   85_plus renta_neta_persona renta_neta_hogar renta_bruta_persona  \\\n",
      "0  0.633147  0.360544           0.441335         0.367793            0.350688   \n",
      "1  0.633147  0.360544           0.441335         0.367793            0.350688   \n",
      "2  0.633147  0.360544           0.441335         0.367793            0.350688   \n",
      "3  0.413408  0.210884           0.432418         0.363466            0.341508   \n",
      "4  0.413408  0.210884           0.432418         0.363466            0.341508   \n",
      "\n",
      "  renta_bruta_hogar  \n",
      "0          0.294251  \n",
      "1          0.294251  \n",
      "2          0.294251  \n",
      "3          0.289013  \n",
      "4          0.289013  \n",
      "\n",
      "[5 rows x 341 columns]\n"
     ]
    }
   ],
   "source": [
    "# Loop over demog_gdf rows and update buildings where CUSEC matches the demog_gdf 'Seccion'\n",
    "for index, row in demog_gdf.iterrows():\n",
    "    mask = buildings['CUSEC'] == row['CUSEC']\n",
    "    buildings.loc[mask, 'renta_neta_persona'] = row['Renta neta media por persona']\n",
    "    buildings.loc[mask, 'renta_neta_hogar'] = row['Renta neta media por hogar']\n",
    "    buildings.loc[mask, 'renta_bruta_persona'] = row['Renta bruta media por persona']\n",
    "    buildings.loc[mask, 'renta_bruta_hogar'] = row['Renta bruta media por hogar']\n",
    "\n",
    "print(buildings.head())"
   ]
  },
  {
   "cell_type": "code",
   "execution_count": 110,
   "metadata": {},
   "outputs": [],
   "source": [
    "# save to csv\n",
    "buildings.to_csv('buildings_by_section_demog.csv', index=False)"
   ]
  }
 ],
 "metadata": {
  "kernelspec": {
   "display_name": "Python 3",
   "language": "python",
   "name": "python3"
  },
  "language_info": {
   "codemirror_mode": {
    "name": "ipython",
    "version": 3
   },
   "file_extension": ".py",
   "mimetype": "text/x-python",
   "name": "python",
   "nbconvert_exporter": "python",
   "pygments_lexer": "ipython3",
   "version": "3.12.3"
  }
 },
 "nbformat": 4,
 "nbformat_minor": 2
}
