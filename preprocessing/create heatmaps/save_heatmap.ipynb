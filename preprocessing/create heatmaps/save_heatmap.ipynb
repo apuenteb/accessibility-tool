{
 "cells": [
  {
   "cell_type": "code",
   "execution_count": 1,
   "metadata": {},
   "outputs": [],
   "source": [
    "# set the poi we are going to save\n",
    "filename='hospital'"
   ]
  },
  {
   "cell_type": "code",
   "execution_count": 2,
   "metadata": {},
   "outputs": [
    {
     "name": "stdout",
     "output_type": "stream",
     "text": [
      "58768\n"
     ]
    }
   ],
   "source": [
    "import pandas as pd\n",
    "\n",
    "TIME_DATA = pd.read_csv('./data/time_data.csv', dtype={\"Erreferentz\": str})\n",
    "print(len(TIME_DATA)) # should be 58768"
   ]
  },
  {
   "cell_type": "code",
   "execution_count": 3,
   "metadata": {},
   "outputs": [
    {
     "name": "stdout",
     "output_type": "stream",
     "text": [
      "58768\n",
      "  Erreferentz       CUSEC  CUMUN Seccion Distrito    CUDIS  \\\n",
      "0     8594095  2006907027  20069     027       07  2006907   \n",
      "1     8594099  2006907027  20069     027       07  2006907   \n",
      "2     8594100  2006907027  20069     027       07  2006907   \n",
      "3     8796114  2006907023  20069     023       07  2006907   \n",
      "4     8796136  2006907023  20069     023       07  2006907   \n",
      "\n",
      "                Municipio hospital_walk hospital_bike hospital_car  ...  \\\n",
      "0  Donostia/San Sebastián       #6a1717       #D50000      #FFFF00  ...   \n",
      "1  Donostia/San Sebastián       #6a1717       #D50000      #FFFF00  ...   \n",
      "2  Donostia/San Sebastián       #6a1717       #D50000      #FFFF00  ...   \n",
      "3  Donostia/San Sebastián       #6a1717       #6a1717      #FFA500  ...   \n",
      "4  Donostia/San Sebastián       #6a1717       #6a1717      #FFA500  ...   \n",
      "\n",
      "  centros_salud_pt farmacia_walk farmacia_bike farmacia_car farmacia_pt  \\\n",
      "0          #FFA500       #D50000       #FFFF00      #7CB342     #FFA500   \n",
      "1          #FFA500       #D50000       #FFFF00      #7CB342     #FFA500   \n",
      "2          #FFA500       #D50000       #FFFF00      #7CB342     #FFA500   \n",
      "3          #7CB342       #FFFF00       #7CB342      #00572a     #7CB342   \n",
      "4          #7CB342       #7CB342       #00572a      #7CB342     #7CB342   \n",
      "\n",
      "  biblioteca_walk biblioteca_bike biblioteca_car biblioteca_pt  \\\n",
      "0         #D50000         #FFFF00        #7CB342       #FFA500   \n",
      "1         #D50000         #FFFF00        #7CB342       #FFA500   \n",
      "2         #D50000         #FFFF00        #7CB342       #FFA500   \n",
      "3         #7CB342         #00572a        #00572a       #7CB342   \n",
      "4         #7CB342         #00572a        #00572a       #7CB342   \n",
      "\n",
      "                                            geometry  \n",
      "0  MULTIPOLYGON (((-1.94835 43.29971, -1.94834 43...  \n",
      "1  MULTIPOLYGON (((-1.94828 43.29886, -1.94831 43...  \n",
      "2  MULTIPOLYGON (((-1.94794 43.29851, -1.94797 43...  \n",
      "3  MULTIPOLYGON (((-1.92793 43.31524, -1.92823 43...  \n",
      "4  MULTIPOLYGON (((-1.92885 43.31418, -1.92859 43...  \n",
      "\n",
      "[5 rows x 24 columns]\n"
     ]
    }
   ],
   "source": [
    "import geopandas as gpd\n",
    "\n",
    "buildings=gpd.read_file(\"./data/geojson/buildings_by_section_colors.geojson\")\n",
    "print(len(buildings)) # should be 58768\n",
    "print(buildings.head())"
   ]
  },
  {
   "cell_type": "code",
   "execution_count": 82,
   "metadata": {},
   "outputs": [
    {
     "name": "stdout",
     "output_type": "stream",
     "text": [
      "  Referencia       lon        lat  nearest_node  time_to_nearest_poi  \\\n",
      "0    8594095 -1.948183  43.299723    2135506826            39.178406   \n",
      "1    8594099 -1.948484  43.299120    2135506826            39.178406   \n",
      "2    8594100 -1.948365  43.298748    2135506826            39.178406   \n",
      "3    8796114 -1.928046  43.315046    6548202929            73.921991   \n",
      "4    8796136 -1.928175  43.313904    6548202929            73.921991   \n",
      "\n",
      "  block_color     nearest_poi  nearest_poi_node  distance_to_nearest_poi  \\\n",
      "0     #6a1717  entityB90C729B        8647594714              2938.380483   \n",
      "1     #6a1717  entityB90C729B        8647594714              2938.380483   \n",
      "2     #6a1717  entityB90C729B        8647594714              2938.380483   \n",
      "3     #6a1717  entityB90C729B        8647594714              5544.149326   \n",
      "4     #6a1717  entityB90C729B        8647594714              5544.149326   \n",
      "\n",
      "                    geometry  \n",
      "0  POINT (-1.94818 43.29972)  \n",
      "1  POINT (-1.94848 43.29912)  \n",
      "2  POINT (-1.94837 43.29875)  \n",
      "3  POINT (-1.92805 43.31505)  \n",
      "4   POINT (-1.92818 43.3139)  \n"
     ]
    }
   ],
   "source": [
    "walk = gpd.read_file(f\"./outputs/walk/{filename}_nodes_times_walk.geojson\")\n",
    "print(walk.head())"
   ]
  },
  {
   "cell_type": "code",
   "execution_count": 83,
   "metadata": {},
   "outputs": [
    {
     "name": "stdout",
     "output_type": "stream",
     "text": [
      "  Erreferentz       CUSEC  CUMUN Seccion Distrito    CUDIS  \\\n",
      "0     8594095  2006907027  20069     027       07  2006907   \n",
      "1     8594099  2006907027  20069     027       07  2006907   \n",
      "2     8594100  2006907027  20069     027       07  2006907   \n",
      "3     8796114  2006907023  20069     023       07  2006907   \n",
      "4     8796136  2006907023  20069     023       07  2006907   \n",
      "\n",
      "                Municipio hospital_walk hospital_bike hospital_car  ...  \\\n",
      "0  Donostia/San Sebastián       #6a1717       #D50000      #FFFF00  ...   \n",
      "1  Donostia/San Sebastián       #6a1717       #D50000      #FFFF00  ...   \n",
      "2  Donostia/San Sebastián       #6a1717       #D50000      #FFFF00  ...   \n",
      "3  Donostia/San Sebastián       #6a1717       #6a1717      #FFA500  ...   \n",
      "4  Donostia/San Sebastián       #6a1717       #6a1717      #FFA500  ...   \n",
      "\n",
      "  centros_salud_pt farmacia_walk farmacia_bike farmacia_car farmacia_pt  \\\n",
      "0          #FFA500       #D50000       #FFFF00      #7CB342     #FFA500   \n",
      "1          #FFA500       #D50000       #FFFF00      #7CB342     #FFA500   \n",
      "2          #FFA500       #D50000       #FFFF00      #7CB342     #FFA500   \n",
      "3          #7CB342       #FFFF00       #7CB342      #00572a     #7CB342   \n",
      "4          #7CB342       #7CB342       #00572a      #7CB342     #7CB342   \n",
      "\n",
      "  biblioteca_walk biblioteca_bike biblioteca_car biblioteca_pt  \\\n",
      "0         #D50000         #FFFF00        #7CB342       #FFA500   \n",
      "1         #D50000         #FFFF00        #7CB342       #FFA500   \n",
      "2         #D50000         #FFFF00        #7CB342       #FFA500   \n",
      "3         #7CB342         #00572a        #00572a       #7CB342   \n",
      "4         #7CB342         #00572a        #00572a       #7CB342   \n",
      "\n",
      "                                            geometry  \n",
      "0  MULTIPOLYGON (((-1.94835 43.29971, -1.94834 43...  \n",
      "1  MULTIPOLYGON (((-1.94828 43.29886, -1.94831 43...  \n",
      "2  MULTIPOLYGON (((-1.94794 43.29851, -1.94797 43...  \n",
      "3  MULTIPOLYGON (((-1.92793 43.31524, -1.92823 43...  \n",
      "4  MULTIPOLYGON (((-1.92885 43.31418, -1.92859 43...  \n",
      "\n",
      "[5 rows x 24 columns]\n"
     ]
    }
   ],
   "source": [
    "buildings[f\"{filename}_walk\"] = walk['block_color']\n",
    "print(buildings.head())"
   ]
  },
  {
   "cell_type": "code",
   "execution_count": 84,
   "metadata": {},
   "outputs": [],
   "source": [
    "bike = gpd.read_file(f\"./outputs/bike/{filename}_nodes_times_bike.geojson\")"
   ]
  },
  {
   "cell_type": "code",
   "execution_count": 85,
   "metadata": {},
   "outputs": [
    {
     "name": "stdout",
     "output_type": "stream",
     "text": [
      "  Erreferentz       CUSEC  CUMUN Seccion Distrito    CUDIS  \\\n",
      "0     8594095  2006907027  20069     027       07  2006907   \n",
      "1     8594099  2006907027  20069     027       07  2006907   \n",
      "2     8594100  2006907027  20069     027       07  2006907   \n",
      "3     8796114  2006907023  20069     023       07  2006907   \n",
      "4     8796136  2006907023  20069     023       07  2006907   \n",
      "\n",
      "                Municipio hospital_walk hospital_bike hospital_car  ...  \\\n",
      "0  Donostia/San Sebastián       #6a1717       #D50000      #FFFF00  ...   \n",
      "1  Donostia/San Sebastián       #6a1717       #D50000      #FFFF00  ...   \n",
      "2  Donostia/San Sebastián       #6a1717       #D50000      #FFFF00  ...   \n",
      "3  Donostia/San Sebastián       #6a1717       #6a1717      #FFA500  ...   \n",
      "4  Donostia/San Sebastián       #6a1717       #6a1717      #FFA500  ...   \n",
      "\n",
      "  centros_salud_pt farmacia_walk farmacia_bike farmacia_car farmacia_pt  \\\n",
      "0          #FFA500       #D50000       #FFFF00      #7CB342     #FFA500   \n",
      "1          #FFA500       #D50000       #FFFF00      #7CB342     #FFA500   \n",
      "2          #FFA500       #D50000       #FFFF00      #7CB342     #FFA500   \n",
      "3          #7CB342       #FFFF00       #7CB342      #00572a     #7CB342   \n",
      "4          #7CB342       #7CB342       #00572a      #7CB342     #7CB342   \n",
      "\n",
      "  biblioteca_walk biblioteca_bike biblioteca_car biblioteca_pt  \\\n",
      "0         #D50000         #FFFF00        #7CB342       #FFA500   \n",
      "1         #D50000         #FFFF00        #7CB342       #FFA500   \n",
      "2         #D50000         #FFFF00        #7CB342       #FFA500   \n",
      "3         #7CB342         #00572a        #00572a       #7CB342   \n",
      "4         #7CB342         #00572a        #00572a       #7CB342   \n",
      "\n",
      "                                            geometry  \n",
      "0  MULTIPOLYGON (((-1.94835 43.29971, -1.94834 43...  \n",
      "1  MULTIPOLYGON (((-1.94828 43.29886, -1.94831 43...  \n",
      "2  MULTIPOLYGON (((-1.94794 43.29851, -1.94797 43...  \n",
      "3  MULTIPOLYGON (((-1.92793 43.31524, -1.92823 43...  \n",
      "4  MULTIPOLYGON (((-1.92885 43.31418, -1.92859 43...  \n",
      "\n",
      "[5 rows x 24 columns]\n"
     ]
    }
   ],
   "source": [
    "buildings[f\"{filename}_bike\"] = bike['block_color']\n",
    "print(buildings.head())"
   ]
  },
  {
   "cell_type": "code",
   "execution_count": 86,
   "metadata": {},
   "outputs": [],
   "source": [
    "car = gpd.read_file(f\"./outputs/car/{filename}_nodes_times_drive.geojson\")"
   ]
  },
  {
   "cell_type": "code",
   "execution_count": 87,
   "metadata": {},
   "outputs": [
    {
     "name": "stdout",
     "output_type": "stream",
     "text": [
      "  Referencia       lon        lat  nearest_node  time_to_nearest_poi  \\\n",
      "0    8594095 -1.948183  43.299723     300125529                  7.0   \n",
      "1    8594099 -1.948484  43.299120     300125529                  7.0   \n",
      "2    8594100 -1.948365  43.298748     300125529                  7.0   \n",
      "3    8796114 -1.928046  43.315046     482709764                 12.0   \n",
      "4    8796136 -1.928175  43.313904     482709764                 12.0   \n",
      "\n",
      "  block_color                         nearest_poi  nearest_poi_node  \\\n",
      "0     #FFFF00  hospital-universitario-de-donostia         443692093   \n",
      "1     #FFFF00  hospital-universitario-de-donostia         443692093   \n",
      "2     #FFFF00  hospital-universitario-de-donostia         443692093   \n",
      "3     #FFA500  hospital-universitario-de-donostia         443692093   \n",
      "4     #FFA500  hospital-universitario-de-donostia         443692093   \n",
      "\n",
      "   nearest_poi_lat  nearest_poi_lon                   geometry  \n",
      "0        43.292333        -1.968796  POINT (-1.94818 43.29972)  \n",
      "1        43.292333        -1.968796  POINT (-1.94848 43.29912)  \n",
      "2        43.292333        -1.968796  POINT (-1.94837 43.29875)  \n",
      "3        43.292333        -1.968796  POINT (-1.92805 43.31505)  \n",
      "4        43.292333        -1.968796   POINT (-1.92818 43.3139)  \n"
     ]
    }
   ],
   "source": [
    "print(car.head())"
   ]
  },
  {
   "cell_type": "code",
   "execution_count": 88,
   "metadata": {},
   "outputs": [
    {
     "name": "stdout",
     "output_type": "stream",
     "text": [
      "  Erreferentz       CUSEC  CUMUN Seccion Distrito    CUDIS  \\\n",
      "0     8594095  2006907027  20069     027       07  2006907   \n",
      "1     8594099  2006907027  20069     027       07  2006907   \n",
      "2     8594100  2006907027  20069     027       07  2006907   \n",
      "3     8796114  2006907023  20069     023       07  2006907   \n",
      "4     8796136  2006907023  20069     023       07  2006907   \n",
      "\n",
      "                Municipio hospital_walk hospital_bike hospital_car  ...  \\\n",
      "0  Donostia/San Sebastián       #6a1717       #D50000      #FFFF00  ...   \n",
      "1  Donostia/San Sebastián       #6a1717       #D50000      #FFFF00  ...   \n",
      "2  Donostia/San Sebastián       #6a1717       #D50000      #FFFF00  ...   \n",
      "3  Donostia/San Sebastián       #6a1717       #6a1717      #FFA500  ...   \n",
      "4  Donostia/San Sebastián       #6a1717       #6a1717      #FFA500  ...   \n",
      "\n",
      "  centros_salud_pt farmacia_walk farmacia_bike farmacia_car farmacia_pt  \\\n",
      "0          #FFA500       #D50000       #FFFF00      #7CB342     #FFA500   \n",
      "1          #FFA500       #D50000       #FFFF00      #7CB342     #FFA500   \n",
      "2          #FFA500       #D50000       #FFFF00      #7CB342     #FFA500   \n",
      "3          #7CB342       #FFFF00       #7CB342      #00572a     #7CB342   \n",
      "4          #7CB342       #7CB342       #00572a      #7CB342     #7CB342   \n",
      "\n",
      "  biblioteca_walk biblioteca_bike biblioteca_car biblioteca_pt  \\\n",
      "0         #D50000         #FFFF00        #7CB342       #FFA500   \n",
      "1         #D50000         #FFFF00        #7CB342       #FFA500   \n",
      "2         #D50000         #FFFF00        #7CB342       #FFA500   \n",
      "3         #7CB342         #00572a        #00572a       #7CB342   \n",
      "4         #7CB342         #00572a        #00572a       #7CB342   \n",
      "\n",
      "                                            geometry  \n",
      "0  MULTIPOLYGON (((-1.94835 43.29971, -1.94834 43...  \n",
      "1  MULTIPOLYGON (((-1.94828 43.29886, -1.94831 43...  \n",
      "2  MULTIPOLYGON (((-1.94794 43.29851, -1.94797 43...  \n",
      "3  MULTIPOLYGON (((-1.92793 43.31524, -1.92823 43...  \n",
      "4  MULTIPOLYGON (((-1.92885 43.31418, -1.92859 43...  \n",
      "\n",
      "[5 rows x 24 columns]\n"
     ]
    }
   ],
   "source": [
    "buildings[f\"{filename}_car\"] = car['block_color']\n",
    "print(buildings.head())"
   ]
  },
  {
   "cell_type": "code",
   "execution_count": 4,
   "metadata": {},
   "outputs": [],
   "source": [
    "pt = gpd.read_file(f\"./outputs/pt/{filename}_nodes_times_pt_newcolors.geojson\")"
   ]
  },
  {
   "cell_type": "code",
   "execution_count": 5,
   "metadata": {},
   "outputs": [
    {
     "name": "stdout",
     "output_type": "stream",
     "text": [
      "  Referencia       lon        lat  nearest_node  time_to_nearest_poi  \\\n",
      "0    8594095 -1.948183  43.299723       37249.0               28.742   \n",
      "1    8594099 -1.948484  43.299120       37249.0               28.742   \n",
      "2    8594100 -1.948365  43.298748       37249.0               28.742   \n",
      "3    8796114 -1.928046  43.315046       15093.0               23.007   \n",
      "4    8796136 -1.928175  43.313904       15093.0               23.007   \n",
      "\n",
      "  block_color                         nearest_poi  nearest_poi_node geometry  \n",
      "0     #FFA500  Hospital Universitario de Donostia          109761.0     None  \n",
      "1     #FFA500  Hospital Universitario de Donostia          109761.0     None  \n",
      "2     #FFA500  Hospital Universitario de Donostia          109761.0     None  \n",
      "3     #FFA500  Hospital Universitario de Donostia          109761.0     None  \n",
      "4     #FFA500  Hospital Universitario de Donostia          109761.0     None  \n"
     ]
    }
   ],
   "source": [
    "print(pt.head())"
   ]
  },
  {
   "cell_type": "code",
   "execution_count": 6,
   "metadata": {},
   "outputs": [
    {
     "name": "stdout",
     "output_type": "stream",
     "text": [
      "  Erreferentz       CUSEC  CUMUN Seccion Distrito    CUDIS  \\\n",
      "0     8594095  2006907027  20069     027       07  2006907   \n",
      "1     8594099  2006907027  20069     027       07  2006907   \n",
      "2     8594100  2006907027  20069     027       07  2006907   \n",
      "3     8796114  2006907023  20069     023       07  2006907   \n",
      "4     8796136  2006907023  20069     023       07  2006907   \n",
      "\n",
      "                Municipio hospital_walk hospital_bike hospital_car  ...  \\\n",
      "0  Donostia/San Sebastián       #6a1717       #D50000      #FFFF00  ...   \n",
      "1  Donostia/San Sebastián       #6a1717       #D50000      #FFFF00  ...   \n",
      "2  Donostia/San Sebastián       #6a1717       #D50000      #FFFF00  ...   \n",
      "3  Donostia/San Sebastián       #6a1717       #6a1717      #FFA500  ...   \n",
      "4  Donostia/San Sebastián       #6a1717       #6a1717      #FFA500  ...   \n",
      "\n",
      "  centros_salud_pt farmacia_walk farmacia_bike farmacia_car farmacia_pt  \\\n",
      "0          #FFA500       #D50000       #FFFF00      #7CB342     #FFA500   \n",
      "1          #FFA500       #D50000       #FFFF00      #7CB342     #FFA500   \n",
      "2          #FFA500       #D50000       #FFFF00      #7CB342     #FFA500   \n",
      "3          #7CB342       #FFFF00       #7CB342      #00572a     #7CB342   \n",
      "4          #7CB342       #7CB342       #00572a      #7CB342     #7CB342   \n",
      "\n",
      "  biblioteca_walk biblioteca_bike biblioteca_car biblioteca_pt  \\\n",
      "0         #D50000         #FFFF00        #7CB342       #FFA500   \n",
      "1         #D50000         #FFFF00        #7CB342       #FFA500   \n",
      "2         #D50000         #FFFF00        #7CB342       #FFA500   \n",
      "3         #7CB342         #00572a        #00572a       #7CB342   \n",
      "4         #7CB342         #00572a        #00572a       #7CB342   \n",
      "\n",
      "                                            geometry  \n",
      "0  MULTIPOLYGON (((-1.94835 43.29971, -1.94834 43...  \n",
      "1  MULTIPOLYGON (((-1.94828 43.29886, -1.94831 43...  \n",
      "2  MULTIPOLYGON (((-1.94794 43.29851, -1.94797 43...  \n",
      "3  MULTIPOLYGON (((-1.92793 43.31524, -1.92823 43...  \n",
      "4  MULTIPOLYGON (((-1.92885 43.31418, -1.92859 43...  \n",
      "\n",
      "[5 rows x 24 columns]\n"
     ]
    }
   ],
   "source": [
    "buildings[f\"{filename}_pt\"] = pt['block_color']\n",
    "print(buildings.head())"
   ]
  },
  {
   "cell_type": "code",
   "execution_count": 7,
   "metadata": {},
   "outputs": [],
   "source": [
    "# save to geojson\n",
    "buildings.to_file(\"./data/geojson/buildings_by_section_newcolors.geojson\", driver='GeoJSON')"
   ]
  },
  {
   "cell_type": "code",
   "execution_count": 8,
   "metadata": {},
   "outputs": [
    {
     "name": "stdout",
     "output_type": "stream",
     "text": [
      "   Referencia  biblioteca_walk  biblioteca_bike  biblioteca_car  \\\n",
      "0     8594095               16                7               4   \n",
      "1     8594099               16                7               4   \n",
      "2     8594100               16                7               4   \n",
      "3     8796114                4                2               1   \n",
      "4     8796136                4                2               1   \n",
      "\n",
      "   biblioteca_pt  centros_salud_walk  centros_salud_bike  centros_salud_car  \\\n",
      "0             13                  15                   7                  5   \n",
      "1             13                  15                   7                  5   \n",
      "2             13                  15                   7                  5   \n",
      "3              4                   5                   3                  2   \n",
      "4              4                   5                   3                  2   \n",
      "\n",
      "   centros_salud_pt  farmacia_walk  farmacia_bike  farmacia_car  farmacia_pt  \\\n",
      "0                11             17              8             4           12   \n",
      "1                11             17              8             4           12   \n",
      "2                11             17              8             4           12   \n",
      "3                 5              6              3             1            6   \n",
      "4                 5              5              2             4            4   \n",
      "\n",
      "   hospital_walk  hospital_bike  hospital_car  hospital_pt  \n",
      "0             39             19             7           19  \n",
      "1             39             19             7           19  \n",
      "2             39             19             7           19  \n",
      "3             74             36            12           17  \n",
      "4             74             36            12           17  \n"
     ]
    }
   ],
   "source": [
    "print(TIME_DATA.head())"
   ]
  },
  {
   "cell_type": "code",
   "execution_count": 9,
   "metadata": {},
   "outputs": [
    {
     "name": "stdout",
     "output_type": "stream",
     "text": [
      "   Referencia  biblioteca_walk  biblioteca_bike  biblioteca_car  \\\n",
      "0     8594095               16                7               4   \n",
      "1     8594099               16                7               4   \n",
      "2     8594100               16                7               4   \n",
      "3     8796114                4                2               1   \n",
      "4     8796136                4                2               1   \n",
      "\n",
      "   biblioteca_pt  centros_salud_walk  centros_salud_bike  centros_salud_car  \\\n",
      "0             13                  15                   7                  5   \n",
      "1             13                  15                   7                  5   \n",
      "2             13                  15                   7                  5   \n",
      "3              4                   5                   3                  2   \n",
      "4              4                   5                   3                  2   \n",
      "\n",
      "   centros_salud_pt  farmacia_walk  farmacia_bike  farmacia_car  farmacia_pt  \\\n",
      "0                11             17              8             4           12   \n",
      "1                11             17              8             4           12   \n",
      "2                11             17              8             4           12   \n",
      "3                 5              6              3             1            6   \n",
      "4                 5              5              2             4            4   \n",
      "\n",
      "   hospital_walk  hospital_bike  hospital_car  hospital_pt  \n",
      "0             39             19             7       28.742  \n",
      "1             39             19             7       28.742  \n",
      "2             39             19             7       28.742  \n",
      "3             74             36            12       23.007  \n",
      "4             74             36            12       23.007  \n"
     ]
    }
   ],
   "source": [
    "#TIME_DATA[f\"{filename}_walk\"] = walk['time_to_nearest_poi']\n",
    "#TIME_DATA[f\"{filename}_bike\"] = bike['time_to_nearest_poi']\n",
    "#TIME_DATA[f\"{filename}_car\"] = car['time_to_nearest_poi']\n",
    "TIME_DATA[f\"{filename}_pt\"] = pt['time_to_nearest_poi']\n",
    "print(TIME_DATA.head())"
   ]
  },
  {
   "cell_type": "code",
   "execution_count": 10,
   "metadata": {},
   "outputs": [],
   "source": [
    "# round\n",
    "TIME_DATA = TIME_DATA.round(0)"
   ]
  },
  {
   "cell_type": "code",
   "execution_count": 11,
   "metadata": {},
   "outputs": [
    {
     "name": "stdout",
     "output_type": "stream",
     "text": [
      "   Referencia  biblioteca_walk  biblioteca_bike  biblioteca_car  \\\n",
      "0     8594095               16                7               4   \n",
      "1     8594099               16                7               4   \n",
      "2     8594100               16                7               4   \n",
      "3     8796114                4                2               1   \n",
      "4     8796136                4                2               1   \n",
      "\n",
      "   biblioteca_pt  centros_salud_walk  centros_salud_bike  centros_salud_car  \\\n",
      "0             13                  15                   7                  5   \n",
      "1             13                  15                   7                  5   \n",
      "2             13                  15                   7                  5   \n",
      "3              4                   5                   3                  2   \n",
      "4              4                   5                   3                  2   \n",
      "\n",
      "   centros_salud_pt  farmacia_walk  farmacia_bike  farmacia_car  farmacia_pt  \\\n",
      "0                11             17              8             4           12   \n",
      "1                11             17              8             4           12   \n",
      "2                11             17              8             4           12   \n",
      "3                 5              6              3             1            6   \n",
      "4                 5              5              2             4            4   \n",
      "\n",
      "   hospital_walk  hospital_bike  hospital_car  hospital_pt  \n",
      "0             39             19             7           29  \n",
      "1             39             19             7           29  \n",
      "2             39             19             7           29  \n",
      "3             74             36            12           23  \n",
      "4             74             36            12           23  \n"
     ]
    }
   ],
   "source": [
    "# remove .0 from values\n",
    "TIME_DATA= TIME_DATA.fillna(0).astype(int)\n",
    "\n",
    "print(TIME_DATA.head())"
   ]
  },
  {
   "cell_type": "code",
   "execution_count": 12,
   "metadata": {},
   "outputs": [],
   "source": [
    "# save csv\n",
    "TIME_DATA.to_csv(\"./data/time_data.csv\", index=False)"
   ]
  },
  {
   "cell_type": "code",
   "execution_count": 13,
   "metadata": {},
   "outputs": [
    {
     "name": "stdout",
     "output_type": "stream",
     "text": [
      "58768\n"
     ]
    }
   ],
   "source": [
    "print(len(TIME_DATA))"
   ]
  }
 ],
 "metadata": {
  "kernelspec": {
   "display_name": "Python 3",
   "language": "python",
   "name": "python3"
  },
  "language_info": {
   "codemirror_mode": {
    "name": "ipython",
    "version": 3
   },
   "file_extension": ".py",
   "mimetype": "text/x-python",
   "name": "python",
   "nbconvert_exporter": "python",
   "pygments_lexer": "ipython3",
   "version": "3.12.3"
  }
 },
 "nbformat": 4,
 "nbformat_minor": 2
}
