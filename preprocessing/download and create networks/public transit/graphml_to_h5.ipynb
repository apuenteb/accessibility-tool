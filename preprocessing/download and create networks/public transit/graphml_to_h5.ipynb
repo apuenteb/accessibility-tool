{
 "cells": [
  {
   "cell_type": "markdown",
   "metadata": {},
   "source": [
    "Load graphml file and transform into h5 file using pandana"
   ]
  },
  {
   "cell_type": "code",
   "execution_count": 24,
   "metadata": {},
   "outputs": [],
   "source": [
    "import networkx as nx\n",
    "\n",
    "G_temp=nx.read_graphml(\"./networks/gipuzkoa_walk_with_geometry.graphml\")"
   ]
  },
  {
   "cell_type": "code",
   "execution_count": 25,
   "metadata": {},
   "outputs": [],
   "source": [
    "import pandas as pd\n",
    "\n",
    "node_df=pd.DataFrame.from_dict(dict(G_temp.nodes(data=True)), orient=\"index\")\n",
    "edge_df=nx.to_pandas_edgelist(G_temp)"
   ]
  },
  {
   "cell_type": "code",
   "execution_count": 26,
   "metadata": {},
   "outputs": [
    {
     "name": "stdout",
     "output_type": "stream",
     "text": [
      "                 y           x street_count highway  ref\n",
      "448001  43.1795625  -2.4899828            3     NaN  NaN\n",
      "448006  43.1826552  -2.4814224            4     NaN  NaN\n",
      "451277  43.2049133   -2.425101            3     NaN  NaN\n",
      "451289  43.1927813  -2.4381722            3     NaN  NaN\n",
      "469501  43.1911116  -2.4516244            3     NaN  NaN\n"
     ]
    }
   ],
   "source": [
    "print(node_df.head())"
   ]
  },
  {
   "cell_type": "code",
   "execution_count": 27,
   "metadata": {},
   "outputs": [
    {
     "name": "stdout",
     "output_type": "stream",
     "text": [
      "   source      target                                           geometry  \\\n",
      "0  448001  3934729820  LINESTRING (-2.4899828 43.1795625, -2.489874 4...   \n",
      "1  448001    25438648  LINESTRING (-2.4899828 43.1795625, -2.4900901 ...   \n",
      "2  448001      916343  LINESTRING (-2.4899828 43.1795625, -2.4901355 ...   \n",
      "3  448006  5949227426  LINESTRING (-2.4814224 43.1826552, -2.4816299 ...   \n",
      "4  448006     6928916  LINESTRING (-2.4814224 43.1826552, -2.4814342 ...   \n",
      "\n",
      "  reversed      ref tunnel      highway oneway maxspeed service junction  \\\n",
      "0    False      NaN    NaN     tertiary  False      NaN     NaN      NaN   \n",
      "1     True      NaN    NaN  residential  False      NaN     NaN      NaN   \n",
      "2     True  BI-3344    NaN     tertiary  False      NaN     NaN      NaN   \n",
      "3     True      NaN    NaN     tertiary  False      NaN     NaN      NaN   \n",
      "4     True      NaN    NaN  residential  False      NaN     NaN      NaN   \n",
      "\n",
      "  distance bridge landuse                   name access lanes  \\\n",
      "0  113.604    NaN     NaN       Otaola hiribidea    NaN     2   \n",
      "1   139.66    yes     NaN  Tiburzio Anitua kalea    NaN     2   \n",
      "2   42.152    NaN     NaN     Gipuzkoa hiribidea    NaN     2   \n",
      "3   20.781    NaN     NaN       Otaola hiribidea    NaN     2   \n",
      "4   78.047    NaN     NaN                    NaN    NaN     2   \n",
      "\n",
      "                              osmid width  \n",
      "0                          44716332   NaN  \n",
      "1  [219375572, 219375573, 44716327]   NaN  \n",
      "2                        1009087270   NaN  \n",
      "3                           4358261   NaN  \n",
      "4                           4969606   NaN  \n"
     ]
    }
   ],
   "source": [
    "# rename length to distance\n",
    "edge_df=edge_df.rename(columns={\"length\": \"distance\"})\n",
    "print(edge_df.head())"
   ]
  },
  {
   "cell_type": "code",
   "execution_count": 28,
   "metadata": {},
   "outputs": [],
   "source": [
    "# Convert columns to numeric, forcing errors='coerce' to handle non-numeric values\n",
    "edge_df[\"distance\"] = pd.to_numeric(edge_df[\"distance\"], errors=\"coerce\")"
   ]
  },
  {
   "cell_type": "code",
   "execution_count": 29,
   "metadata": {},
   "outputs": [],
   "source": [
    "# distance miles, convert distance from meters to miles\n",
    "edge_df[\"distance_miles\"] = edge_df[\"distance\"] / 1609.34"
   ]
  },
  {
   "cell_type": "code",
   "execution_count": 30,
   "metadata": {},
   "outputs": [
    {
     "name": "stdout",
     "output_type": "stream",
     "text": [
      "   source      target                                           geometry  \\\n",
      "0  448001  3934729820  LINESTRING (-2.4899828 43.1795625, -2.489874 4...   \n",
      "1  448001    25438648  LINESTRING (-2.4899828 43.1795625, -2.4900901 ...   \n",
      "2  448001      916343  LINESTRING (-2.4899828 43.1795625, -2.4901355 ...   \n",
      "3  448006  5949227426  LINESTRING (-2.4814224 43.1826552, -2.4816299 ...   \n",
      "4  448006     6928916  LINESTRING (-2.4814224 43.1826552, -2.4814342 ...   \n",
      "\n",
      "  reversed      ref tunnel      highway oneway maxspeed service  ... distance  \\\n",
      "0    False      NaN    NaN     tertiary  False      NaN     NaN  ...  113.604   \n",
      "1     True      NaN    NaN  residential  False      NaN     NaN  ...  139.660   \n",
      "2     True  BI-3344    NaN     tertiary  False      NaN     NaN  ...   42.152   \n",
      "3     True      NaN    NaN     tertiary  False      NaN     NaN  ...   20.781   \n",
      "4     True      NaN    NaN  residential  False      NaN     NaN  ...   78.047   \n",
      "\n",
      "   bridge landuse                   name access lanes  \\\n",
      "0     NaN     NaN       Otaola hiribidea    NaN     2   \n",
      "1     yes     NaN  Tiburzio Anitua kalea    NaN     2   \n",
      "2     NaN     NaN     Gipuzkoa hiribidea    NaN     2   \n",
      "3     NaN     NaN       Otaola hiribidea    NaN     2   \n",
      "4     NaN     NaN                    NaN    NaN     2   \n",
      "\n",
      "                              osmid width distance_miles  travel_time  \n",
      "0                          44716332   NaN       0.070590     81.79488  \n",
      "1  [219375572, 219375573, 44716327]   NaN       0.086781    100.55520  \n",
      "2                        1009087270   NaN       0.026192     30.34944  \n",
      "3                           4358261   NaN       0.012913     14.96232  \n",
      "4                           4969606   NaN       0.048496     56.19384  \n",
      "\n",
      "[5 rows x 21 columns]\n"
     ]
    }
   ],
   "source": [
    "# calculate travel time in seconds, assuming 5 km/h and distance in meters\n",
    "edge_df[\"travel_time\"] = edge_df[\"distance\"] / 5000 * 3600\n",
    "print(edge_df.head())"
   ]
  },
  {
   "cell_type": "code",
   "execution_count": 31,
   "metadata": {},
   "outputs": [],
   "source": [
    "# just keep index, x and y from node_df\n",
    "node_df=node_df[[\"x\", \"y\"]]\n",
    "\n",
    "# just keep source, target and distance from edge_df\n",
    "edge_df=edge_df[[\"source\", \"target\", \"distance_miles\"]]"
   ]
  },
  {
   "cell_type": "code",
   "execution_count": 35,
   "metadata": {},
   "outputs": [],
   "source": [
    "# rename distance_miles to distance\n",
    "edge_df=edge_df.rename(columns={\"distance_miles\": \"distance\"})"
   ]
  },
  {
   "cell_type": "code",
   "execution_count": 36,
   "metadata": {},
   "outputs": [
    {
     "name": "stdout",
     "output_type": "stream",
     "text": [
      "                 x           y\n",
      "448001  -2.4899828  43.1795625\n",
      "448006  -2.4814224  43.1826552\n",
      "451277   -2.425101  43.2049133\n",
      "451289  -2.4381722  43.1927813\n",
      "469501  -2.4516244  43.1911116\n",
      "   source      target  distance\n",
      "0  448001  3934729820  0.070590\n",
      "1  448001    25438648  0.086781\n",
      "2  448001      916343  0.026192\n",
      "3  448006  5949227426  0.012913\n",
      "4  448006     6928916  0.048496\n"
     ]
    }
   ],
   "source": [
    "print(node_df.head())\n",
    "print(edge_df.head())"
   ]
  },
  {
   "cell_type": "code",
   "execution_count": 37,
   "metadata": {},
   "outputs": [
    {
     "name": "stdout",
     "output_type": "stream",
     "text": [
      "<pandana.network.Network object at 0x0000026B1EB1AF30>\n"
     ]
    }
   ],
   "source": [
    "import pandana as pdna\n",
    "\n",
    "node_x=node_df[\"x\"]\n",
    "node_y=node_df[\"y\"]\n",
    "edge_from=edge_df[\"source\"]\n",
    "edge_to=edge_df[\"target\"]\n",
    "edge_weights=pd.DataFrame(edge_df[\"distance\"])\n",
    "\n",
    "walk_network = pdna.Network(node_x, node_y, edge_from, edge_to, edge_weights, twoway=True)\n",
    "\n",
    "print(walk_network)"
   ]
  },
  {
   "cell_type": "code",
   "execution_count": 38,
   "metadata": {},
   "outputs": [],
   "source": [
    "network_file=\"./networks/walk_network_miles.h5\"\n",
    "walk_network.save_hdf5(network_file)"
   ]
  }
 ],
 "metadata": {
  "kernelspec": {
   "display_name": "Python 3",
   "language": "python",
   "name": "python3"
  },
  "language_info": {
   "codemirror_mode": {
    "name": "ipython",
    "version": 3
   },
   "file_extension": ".py",
   "mimetype": "text/x-python",
   "name": "python",
   "nbconvert_exporter": "python",
   "pygments_lexer": "ipython3",
   "version": "3.12.3"
  }
 },
 "nbformat": 4,
 "nbformat_minor": 2
}
