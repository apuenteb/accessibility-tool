{
 "cells": [
  {
   "cell_type": "code",
   "execution_count": 16,
   "metadata": {},
   "outputs": [
    {
     "name": "stdout",
     "output_type": "stream",
     "text": [
      "None\n",
      "EPSG:4326\n"
     ]
    }
   ],
   "source": [
    "import pandas as pd\n",
    "import geopandas as gpd\n",
    "import numpy as np\n",
    "\n",
    "# Load your DataFrame\n",
    "df = pd.read_parquet(\"C:/users/ana/desktop/root/24.parquet\")\n",
    "\n",
    "# Convert to GeoDataFrame\n",
    "gdf = gpd.GeoDataFrame(df, geometry=gpd.points_from_xy(df.longitude, df.latitude))\n",
    "\n",
    "# Handle problematic columns\n",
    "for col in gdf.columns:\n",
    "    # Convert numpy arrays to lists\n",
    "    if gdf[col].apply(lambda x: isinstance(x, np.ndarray)).any():\n",
    "        gdf[col] = gdf[col].apply(lambda x: list(x) if isinstance(x, np.ndarray) else x)\n",
    "    # Convert lists to strings or drop the column\n",
    "    if gdf[col].apply(lambda x: isinstance(x, list)).any():\n",
    "        gdf[col] = gdf[col].apply(lambda x: str(x) if isinstance(x, list) else x)"
   ]
  },
  {
   "cell_type": "code",
   "execution_count": 17,
   "metadata": {},
   "outputs": [
    {
     "name": "stdout",
     "output_type": "stream",
     "text": [
      "None\n",
      "EPSG:4326\n"
     ]
    }
   ],
   "source": [
    "boundary=gpd.read_file('gipuzkoafull-boundary.geojson')\n",
    "\n",
    "# cheking the crs\n",
    "print(gdf.crs)\n",
    "print(boundary.crs)"
   ]
  },
  {
   "cell_type": "code",
   "execution_count": 20,
   "metadata": {},
   "outputs": [
    {
     "name": "stdout",
     "output_type": "stream",
     "text": [
      "                     fsq_place_id  \\\n",
      "1534259  50a611a6e4b0ec4c78f4811a   \n",
      "1534279  29fb72c3c66f4a2ac83ecd33   \n",
      "1534304  4bad0e0df964a520e5283be3   \n",
      "1534308  50ce0323e4b0b76cdf8591a8   \n",
      "1534327  4f85e0bde4b0cf6fec824a8a   \n",
      "\n",
      "                                                      name   latitude  \\\n",
      "1534259                                 Ulma Architectural  43.067830   \n",
      "1534279  Partido Nacionalista Vasco - Guipuzko Buru Batzar  43.034840   \n",
      "1534304                                             Eroski  43.017668   \n",
      "1534308                                    plaza 1 de Mayo  43.062310   \n",
      "1534327                                 Telepizza Arrasate  43.064882   \n",
      "\n",
      "         longitude                address      locality     region postcode  \\\n",
      "1534259  -2.445665              Zubillaga         Oñati       None    20560   \n",
      "1534279  -2.503704  Durana Kalea, 23 Bajo  Aretxabaleta  Guipúzcoa    20550   \n",
      "1534304  -2.531429              Mondragon     Guipúzcoa         PV     None   \n",
      "1534308  -2.493051                   None          None       None     None   \n",
      "1534327  -2.484485     Etorbidea Kalea, 5      Arrasate  Guipuzkoa    20500   \n",
      "\n",
      "        admin_region post_town  ... date_closed           tel  \\\n",
      "1534259         None      None  ...        None          None   \n",
      "1534279      Euskadi      None  ...        None  943 79 57 43   \n",
      "1534304         None      None  ...        None          None   \n",
      "1534308         None      None  ...        None          None   \n",
      "1534327      Euskadi      None  ...        None  943 10 88 28   \n",
      "\n",
      "                         website email facebook_id instagram twitter  \\\n",
      "1534259                     None  None         NaN      None    None   \n",
      "1534279                     None  None         NaN      None    None   \n",
      "1534304                     None  None         NaN      None    None   \n",
      "1534308                     None  None         NaN      None    None   \n",
      "1534327  http://www.telepizza.es  None         NaN      None    None   \n",
      "\n",
      "                     fsq_category_ids  \\\n",
      "1534259  ['4eb1bea83b7b6f98df247e06']   \n",
      "1534279  ['63be6904847c3692a84b9ba7']   \n",
      "1534304                          None   \n",
      "1534308  ['4bf58dd8d48988d164941735']   \n",
      "1534327  ['4bf58dd8d48988d1ca941735']   \n",
      "\n",
      "                                       fsq_category_labels  \\\n",
      "1534259   ['Business and Professional Services > Factory']   \n",
      "1534279  ['Community and Government > Government Lobbyi...   \n",
      "1534304                                               None   \n",
      "1534308                 ['Landmarks and Outdoors > Plaza']   \n",
      "1534327    ['Dining and Drinking > Restaurant > Pizzeria']   \n",
      "\n",
      "                          geometry  \n",
      "1534259  POINT (-2.44567 43.06783)  \n",
      "1534279  POINT (-2.50370 43.03484)  \n",
      "1534304  POINT (-2.53143 43.01767)  \n",
      "1534308  POINT (-2.49305 43.06231)  \n",
      "1534327  POINT (-2.48448 43.06488)  \n",
      "\n",
      "[5 rows x 24 columns]\n"
     ]
    }
   ],
   "source": [
    "# check if any point is within the boundary\n",
    "mask = gdf.within(boundary.loc[0, 'geometry'])\n",
    "\n",
    "# Filter the GeoDataFrame\n",
    "gdf = gdf[mask]\n",
    "\n",
    "print(gdf.head())"
   ]
  },
  {
   "cell_type": "code",
   "execution_count": null,
   "metadata": {},
   "outputs": [],
   "source": []
  },
  {
   "cell_type": "code",
   "execution_count": 23,
   "metadata": {},
   "outputs": [],
   "source": [
    "# save the filtered GeoDataFrame\n",
    "gdf.to_file(\"C:/users/ana/desktop/root/24_filtered.geojson\")"
   ]
  }
 ],
 "metadata": {
  "kernelspec": {
   "display_name": "Python 3",
   "language": "python",
   "name": "python3"
  },
  "language_info": {
   "codemirror_mode": {
    "name": "ipython",
    "version": 3
   },
   "file_extension": ".py",
   "mimetype": "text/x-python",
   "name": "python",
   "nbconvert_exporter": "python",
   "pygments_lexer": "ipython3",
   "version": "3.12.3"
  }
 },
 "nbformat": 4,
 "nbformat_minor": 2
}
