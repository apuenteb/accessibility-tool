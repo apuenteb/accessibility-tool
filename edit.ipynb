{
 "cells": [
  {
   "cell_type": "code",
   "execution_count": 1,
   "metadata": {},
   "outputs": [
    {
     "name": "stdout",
     "output_type": "stream",
     "text": [
      "  Erreferentz       CUSEC  CUMUN Seccion Distrito    CUDIS  \\\n",
      "0     8594095  2006907027  20069     027       07  2006907   \n",
      "1     8594099  2006907027  20069     027       07  2006907   \n",
      "2     8594100  2006907027  20069     027       07  2006907   \n",
      "3     8796114  2006907023  20069     023       07  2006907   \n",
      "4     8796136  2006907023  20069     023       07  2006907   \n",
      "\n",
      "                Municipio  color_1  color_2  \\\n",
      "0  Donostia/San Sebastián  #D50000  #de1bdb   \n",
      "1  Donostia/San Sebastián  #D50000  #de1bdb   \n",
      "2  Donostia/San Sebastián  #D50000  #de1bdb   \n",
      "3  Donostia/San Sebastián  #6a1717  #de1bdb   \n",
      "4  Donostia/San Sebastián  #6a1717  #de1bdb   \n",
      "\n",
      "                                            geometry  \n",
      "0  MULTIPOLYGON (((-1.94835 43.29971, -1.94834 43...  \n",
      "1  MULTIPOLYGON (((-1.94828 43.29886, -1.94831 43...  \n",
      "2  MULTIPOLYGON (((-1.94794 43.29851, -1.94797 43...  \n",
      "3  MULTIPOLYGON (((-1.92793 43.31524, -1.92823 43...  \n",
      "4  MULTIPOLYGON (((-1.92885 43.31418, -1.92859 43...  \n"
     ]
    }
   ],
   "source": [
    "import geopandas as gpd\n",
    "\n",
    "# Load the data\n",
    "gdf=gpd.read_file('assets/hospital_with_colors.geojson')\n",
    "print(gdf.head())"
   ]
  },
  {
   "cell_type": "code",
   "execution_count": 2,
   "metadata": {},
   "outputs": [
    {
     "name": "stdout",
     "output_type": "stream",
     "text": [
      "  Erreferentz       CUSEC  CUMUN Seccion Distrito    CUDIS  \\\n",
      "0     8594095  2006907027  20069     027       07  2006907   \n",
      "1     8594099  2006907027  20069     027       07  2006907   \n",
      "2     8594100  2006907027  20069     027       07  2006907   \n",
      "3     8796114  2006907023  20069     023       07  2006907   \n",
      "4     8796136  2006907023  20069     023       07  2006907   \n",
      "\n",
      "                Municipio  color_1  color_2  \\\n",
      "0  Donostia/San Sebastián  #D50000  #6a1717   \n",
      "1  Donostia/San Sebastián  #D50000  #6a1717   \n",
      "2  Donostia/San Sebastián  #D50000  #6a1717   \n",
      "3  Donostia/San Sebastián  #6a1717  #6a1717   \n",
      "4  Donostia/San Sebastián  #6a1717  #6a1717   \n",
      "\n",
      "                                            geometry  \n",
      "0  MULTIPOLYGON (((-1.94835 43.29971, -1.94834 43...  \n",
      "1  MULTIPOLYGON (((-1.94828 43.29886, -1.94831 43...  \n",
      "2  MULTIPOLYGON (((-1.94794 43.29851, -1.94797 43...  \n",
      "3  MULTIPOLYGON (((-1.92793 43.31524, -1.92823 43...  \n",
      "4  MULTIPOLYGON (((-1.92885 43.31418, -1.92859 43...  \n"
     ]
    }
   ],
   "source": [
    "# change the color of color_2 to red\n",
    "gdf['color_2'] = '#6a1717'\n",
    "\n",
    "print(gdf.head())"
   ]
  },
  {
   "cell_type": "code",
   "execution_count": 3,
   "metadata": {},
   "outputs": [],
   "source": [
    "gdf['color_3']='#8f0340'\n",
    "gdf['color_4']='#D50000'\n",
    "gdf['color_5']='#FFA500'\n",
    "gdf['color_6']='#FFFF00'"
   ]
  },
  {
   "cell_type": "code",
   "execution_count": 4,
   "metadata": {},
   "outputs": [
    {
     "name": "stdout",
     "output_type": "stream",
     "text": [
      "  Erreferentz       CUSEC  CUMUN Seccion Distrito    CUDIS  \\\n",
      "0     8594095  2006907027  20069     027       07  2006907   \n",
      "1     8594099  2006907027  20069     027       07  2006907   \n",
      "2     8594100  2006907027  20069     027       07  2006907   \n",
      "3     8796114  2006907023  20069     023       07  2006907   \n",
      "4     8796136  2006907023  20069     023       07  2006907   \n",
      "\n",
      "                Municipio  color_1  color_2  \\\n",
      "0  Donostia/San Sebastián  #D50000  #6a1717   \n",
      "1  Donostia/San Sebastián  #D50000  #6a1717   \n",
      "2  Donostia/San Sebastián  #D50000  #6a1717   \n",
      "3  Donostia/San Sebastián  #6a1717  #6a1717   \n",
      "4  Donostia/San Sebastián  #6a1717  #6a1717   \n",
      "\n",
      "                                            geometry  color_3  color_4  \\\n",
      "0  MULTIPOLYGON (((-1.94835 43.29971, -1.94834 43...  #8f0340  #D50000   \n",
      "1  MULTIPOLYGON (((-1.94828 43.29886, -1.94831 43...  #8f0340  #D50000   \n",
      "2  MULTIPOLYGON (((-1.94794 43.29851, -1.94797 43...  #8f0340  #D50000   \n",
      "3  MULTIPOLYGON (((-1.92793 43.31524, -1.92823 43...  #8f0340  #D50000   \n",
      "4  MULTIPOLYGON (((-1.92885 43.31418, -1.92859 43...  #8f0340  #D50000   \n",
      "\n",
      "   color_5  color_6  \n",
      "0  #FFA500  #FFFF00  \n",
      "1  #FFA500  #FFFF00  \n",
      "2  #FFA500  #FFFF00  \n",
      "3  #FFA500  #FFFF00  \n",
      "4  #FFA500  #FFFF00  \n"
     ]
    }
   ],
   "source": [
    "print(gdf.head())"
   ]
  },
  {
   "cell_type": "code",
   "execution_count": 5,
   "metadata": {},
   "outputs": [],
   "source": [
    "# save to geojson\n",
    "gdf.to_file('assets/prueba.geojson', driver='GeoJSON')"
   ]
  },
  {
   "cell_type": "code",
   "execution_count": 6,
   "metadata": {},
   "outputs": [
    {
     "name": "stdout",
     "output_type": "stream",
     "text": [
      "object\n"
     ]
    }
   ],
   "source": [
    "# know the type of column color_1\n",
    "print(gdf['color_1'].dtype)"
   ]
  },
  {
   "cell_type": "code",
   "execution_count": 7,
   "metadata": {},
   "outputs": [
    {
     "name": "stdout",
     "output_type": "stream",
     "text": [
      "object\n"
     ]
    }
   ],
   "source": [
    "print(gdf['color_5'].dtype)"
   ]
  },
  {
   "cell_type": "code",
   "execution_count": 8,
   "metadata": {},
   "outputs": [],
   "source": [
    "# rename color_1 to color_1_walk\n",
    "gdf.rename(columns={'color_1':'color_1_walk'}, inplace=True)\n",
    "gdf.rename(columns={'color_2':'color_1_bike'}, inplace=True)\n",
    "gdf.rename(columns={'color_3':'color_3_car'}, inplace=True)\n",
    "gdf.rename(columns={'color_4':'color_4_pt'}, inplace=True)\n",
    "gdf.rename(columns={'color_5':'color_5_walk'}, inplace=True)\n",
    "gdf.rename(columns={'color_6':'color_6_bike'}, inplace=True)"
   ]
  },
  {
   "cell_type": "code",
   "execution_count": 10,
   "metadata": {},
   "outputs": [],
   "source": [
    "# save to geojson\n",
    "gdf.to_file('assets/prueba.geojson', driver='GeoJSON')"
   ]
  }
 ],
 "metadata": {
  "kernelspec": {
   "display_name": "Python 3",
   "language": "python",
   "name": "python3"
  },
  "language_info": {
   "codemirror_mode": {
    "name": "ipython",
    "version": 3
   },
   "file_extension": ".py",
   "mimetype": "text/x-python",
   "name": "python",
   "nbconvert_exporter": "python",
   "pygments_lexer": "ipython3",
   "version": "3.12.3"
  }
 },
 "nbformat": 4,
 "nbformat_minor": 2
}
