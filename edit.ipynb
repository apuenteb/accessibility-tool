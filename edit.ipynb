{
 "cells": [
  {
   "cell_type": "code",
   "execution_count": 1,
   "metadata": {},
   "outputs": [],
   "source": [
    "import pandas as pd\n",
    "\n",
    "df=pd.read_csv('assets/times_walk.csv')"
   ]
  },
  {
   "cell_type": "code",
   "execution_count": 2,
   "metadata": {},
   "outputs": [],
   "source": [
    "import geopandas as gpd\n",
    "\n",
    "gdf=gpd.read_file('data/sections_gipuzkoa_demographic_women.geojson')"
   ]
  },
  {
   "cell_type": "code",
   "execution_count": 3,
   "metadata": {},
   "outputs": [
    {
     "name": "stdout",
     "output_type": "stream",
     "text": [
      "        CUSEC  CUMUN Seccion Distrito    CUDIS     Municipio  Total  \\\n",
      "0  2000101001  20001     001       01  2000101  Abaltzisketa    141   \n",
      "1  2000201001  20002     001       01  2000201         Aduna    236   \n",
      "2  2000301001  20003     001       01  2000301  Aizarnazabal    376   \n",
      "3  2000401001  20004     001       01  2000401      Albiztur    155   \n",
      "4  2000501001  20005     001       01  2000501        Alegia    847   \n",
      "\n",
      "   0-19 años  20-34 años  35-49 años  50-64 años  65-84 años  85+ años  \\\n",
      "0         26          17          29          42          22         5   \n",
      "1         61          31          60          45          28        11   \n",
      "2         97          41         100          73          57         8   \n",
      "3         41          15          36          32          26         5   \n",
      "4        172         116         167         199         156        37   \n",
      "\n",
      "                                            geometry  \n",
      "0  MULTIPOLYGON (((-2.09892 43.06533, -2.0989 43....  \n",
      "1  MULTIPOLYGON (((-2.03912 43.2023, -2.03915 43....  \n",
      "2  MULTIPOLYGON (((-2.20725 43.27294, -2.20714 43...  \n",
      "3  MULTIPOLYGON (((-2.11304 43.1257, -2.11322 43....  \n",
      "4  MULTIPOLYGON (((-2.09007 43.1124, -2.08947 43....  \n"
     ]
    }
   ],
   "source": [
    "print(gdf.head())"
   ]
  },
  {
   "cell_type": "code",
   "execution_count": 4,
   "metadata": {},
   "outputs": [],
   "source": [
    "# drop geometry, CUMUN, CUDIS, Seccion, Distrito columns\n",
    "gdf.drop(columns=['geometry', 'CUMUN', 'CUDIS', 'Seccion', 'Distrito'], inplace=True)"
   ]
  },
  {
   "cell_type": "code",
   "execution_count": 5,
   "metadata": {},
   "outputs": [
    {
     "name": "stdout",
     "output_type": "stream",
     "text": [
      "        CUSEC     Municipio  Total  0-19 años  20-34 años  35-49 años  \\\n",
      "0  2000101001  Abaltzisketa    141         26          17          29   \n",
      "1  2000201001         Aduna    236         61          31          60   \n",
      "2  2000301001  Aizarnazabal    376         97          41         100   \n",
      "3  2000401001      Albiztur    155         41          15          36   \n",
      "4  2000501001        Alegia    847        172         116         167   \n",
      "\n",
      "   50-64 años  65-84 años  85+ años  \n",
      "0          42          22         5  \n",
      "1          45          28        11  \n",
      "2          73          57         8  \n",
      "3          32          26         5  \n",
      "4         199         156        37  \n"
     ]
    }
   ],
   "source": [
    "print(gdf.head())"
   ]
  },
  {
   "cell_type": "code",
   "execution_count": 7,
   "metadata": {},
   "outputs": [
    {
     "name": "stdout",
     "output_type": "stream",
     "text": [
      "  Erreferentz       CUSEC  CUMUN Seccion Distrito    CUDIS  \\\n",
      "0     8594095  2006907027  20069     027       07  2006907   \n",
      "1     8594099  2006907027  20069     027       07  2006907   \n",
      "2     8594100  2006907027  20069     027       07  2006907   \n",
      "3     8796114  2006907023  20069     023       07  2006907   \n",
      "4     8796136  2006907023  20069     023       07  2006907   \n",
      "\n",
      "                Municipio                                           geometry  \n",
      "0  Donostia/San Sebastián  MULTIPOLYGON (((-1.94835 43.29971, -1.94834 43...  \n",
      "1  Donostia/San Sebastián  MULTIPOLYGON (((-1.94828 43.29886, -1.94831 43...  \n",
      "2  Donostia/San Sebastián  MULTIPOLYGON (((-1.94794 43.29851, -1.94797 43...  \n",
      "3  Donostia/San Sebastián  MULTIPOLYGON (((-1.92793 43.31524, -1.92823 43...  \n",
      "4  Donostia/San Sebastián  MULTIPOLYGON (((-1.92885 43.31418, -1.92859 43...  \n"
     ]
    }
   ],
   "source": [
    "ref =gpd.read_file('assets/buildings_by_section.geojson')\n",
    "print(ref.head())"
   ]
  },
  {
   "cell_type": "code",
   "execution_count": 8,
   "metadata": {},
   "outputs": [],
   "source": [
    "# drop geometry, CUMUN, Seccion, Distrito, CUDIS columns\n",
    "ref.drop(columns=['geometry', 'CUMUN', 'Seccion', 'Distrito', 'CUDIS'], inplace=True)"
   ]
  },
  {
   "cell_type": "code",
   "execution_count": 11,
   "metadata": {},
   "outputs": [
    {
     "name": "stdout",
     "output_type": "stream",
     "text": [
      "  Erreferentz       CUSEC               Municipio total_women\n",
      "0     8594095  2006907027  Donostia/San Sebastián        None\n",
      "1     8594099  2006907027  Donostia/San Sebastián        None\n",
      "2     8594100  2006907027  Donostia/San Sebastián        None\n",
      "3     8796114  2006907023  Donostia/San Sebastián        None\n",
      "4     8796136  2006907023  Donostia/San Sebastián        None\n"
     ]
    }
   ],
   "source": [
    "print(ref.head())"
   ]
  },
  {
   "cell_type": "code",
   "execution_count": 10,
   "metadata": {},
   "outputs": [],
   "source": [
    "ref['total_women']=None"
   ]
  },
  {
   "cell_type": "code",
   "execution_count": 12,
   "metadata": {},
   "outputs": [],
   "source": [
    "# for Total column in gdf, assign a float value from 0.1 to 1 according to the Total Number (e.g. the max value should have a 1)\n",
    "# the number assigned is the opacity\n",
    "gdf['Total']=gdf['Total'].astype(float)\n",
    "gdf['Total']=gdf['Total']/gdf['Total'].max()"
   ]
  },
  {
   "cell_type": "code",
   "execution_count": 13,
   "metadata": {},
   "outputs": [
    {
     "name": "stdout",
     "output_type": "stream",
     "text": [
      "        CUSEC     Municipio     Total  0-19 años  20-34 años  35-49 años  \\\n",
      "0  2000101001  Abaltzisketa  0.103372         26          17          29   \n",
      "1  2000201001         Aduna  0.173021         61          31          60   \n",
      "2  2000301001  Aizarnazabal  0.275660         97          41         100   \n",
      "3  2000401001      Albiztur  0.113636         41          15          36   \n",
      "4  2000501001        Alegia  0.620968        172         116         167   \n",
      "\n",
      "   50-64 años  65-84 años  85+ años  \n",
      "0          42          22         5  \n",
      "1          45          28        11  \n",
      "2          73          57         8  \n",
      "3          32          26         5  \n",
      "4         199         156        37  \n"
     ]
    }
   ],
   "source": [
    "print(gdf.head())"
   ]
  },
  {
   "cell_type": "code",
   "execution_count": 29,
   "metadata": {},
   "outputs": [
    {
     "name": "stdout",
     "output_type": "stream",
     "text": [
      "  Erreferentz       CUSEC  CUMUN Seccion Distrito    CUDIS  \\\n",
      "0     8594095  2006907027  20069     027       07  2006907   \n",
      "1     8594099  2006907027  20069     027       07  2006907   \n",
      "2     8594100  2006907027  20069     027       07  2006907   \n",
      "3     8796114  2006907023  20069     023       07  2006907   \n",
      "4     8796136  2006907023  20069     023       07  2006907   \n",
      "\n",
      "                Municipio color_1_walk color_1_bike color_3_car color_4_pt  \\\n",
      "0  Donostia/San Sebastián      #D50000      #6a1717     #8f0340    #D50000   \n",
      "1  Donostia/San Sebastián      #D50000      #6a1717     #8f0340    #D50000   \n",
      "2  Donostia/San Sebastián      #D50000      #6a1717     #8f0340    #D50000   \n",
      "3  Donostia/San Sebastián      #6a1717      #6a1717     #8f0340    #D50000   \n",
      "4  Donostia/San Sebastián      #6a1717      #6a1717     #8f0340    #D50000   \n",
      "\n",
      "  color_5_walk color_6_bike                                           geometry  \n",
      "0      #FFA500      #FFFF00  MULTIPOLYGON (((-1.94835 43.29971, -1.94834 43...  \n",
      "1      #FFA500      #FFFF00  MULTIPOLYGON (((-1.94828 43.29886, -1.94831 43...  \n",
      "2      #FFA500      #FFFF00  MULTIPOLYGON (((-1.94794 43.29851, -1.94797 43...  \n",
      "3      #FFA500      #FFFF00  MULTIPOLYGON (((-1.92793 43.31524, -1.92823 43...  \n",
      "4      #FFA500      #FFFF00  MULTIPOLYGON (((-1.92885 43.31418, -1.92859 43...  \n"
     ]
    }
   ],
   "source": [
    "geojson=gpd.read_file('assets/prueba.geojson')\n",
    "print(geojson.head())"
   ]
  },
  {
   "cell_type": "code",
   "execution_count": 30,
   "metadata": {},
   "outputs": [
    {
     "name": "stdout",
     "output_type": "stream",
     "text": [
      "  Erreferentz       CUSEC  CUMUN Seccion Distrito    CUDIS  \\\n",
      "0     8594095  2006907027  20069     027       07  2006907   \n",
      "1     8594099  2006907027  20069     027       07  2006907   \n",
      "2     8594100  2006907027  20069     027       07  2006907   \n",
      "3     8796114  2006907023  20069     023       07  2006907   \n",
      "4     8796136  2006907023  20069     023       07  2006907   \n",
      "\n",
      "                Municipio color_1_walk color_1_bike color_3_car color_4_pt  \\\n",
      "0  Donostia/San Sebastián      #D50000      #6a1717     #8f0340    #D50000   \n",
      "1  Donostia/San Sebastián      #D50000      #6a1717     #8f0340    #D50000   \n",
      "2  Donostia/San Sebastián      #D50000      #6a1717     #8f0340    #D50000   \n",
      "3  Donostia/San Sebastián      #6a1717      #6a1717     #8f0340    #D50000   \n",
      "4  Donostia/San Sebastián      #6a1717      #6a1717     #8f0340    #D50000   \n",
      "\n",
      "  color_5_walk color_6_bike  \\\n",
      "0      #FFA500      #FFFF00   \n",
      "1      #FFA500      #FFFF00   \n",
      "2      #FFA500      #FFFF00   \n",
      "3      #FFA500      #FFFF00   \n",
      "4      #FFA500      #FFFF00   \n",
      "\n",
      "                                            geometry  total_women  \n",
      "0  MULTIPOLYGON (((-1.94835 43.29971, -1.94834 43...     0.790323  \n",
      "1  MULTIPOLYGON (((-1.94828 43.29886, -1.94831 43...     0.790323  \n",
      "2  MULTIPOLYGON (((-1.94794 43.29851, -1.94797 43...     0.790323  \n",
      "3  MULTIPOLYGON (((-1.92793 43.31524, -1.92823 43...     0.498534  \n",
      "4  MULTIPOLYGON (((-1.92885 43.31418, -1.92859 43...     0.498534  \n"
     ]
    }
   ],
   "source": [
    "# for each gdf row, find the corresponding ref CUSEC row and copy the opacity column value to total_women column\n",
    "for index, row in gdf.iterrows():\n",
    "    geojson.loc[geojson['CUSEC']==row['CUSEC'], 'total_women']=row['Total']\n",
    "\n",
    "print(geojson.head())"
   ]
  },
  {
   "cell_type": "code",
   "execution_count": 32,
   "metadata": {},
   "outputs": [],
   "source": [
    "# save to geojson\n",
    "geojson.to_file('assets/prueba_demog.geojson', driver='GeoJSON')"
   ]
  },
  {
   "cell_type": "code",
   "execution_count": 33,
   "metadata": {},
   "outputs": [],
   "source": [
    "# save to csv\n",
    "geojson.to_csv('assets/prueba_demog.csv', index=False)"
   ]
  }
 ],
 "metadata": {
  "kernelspec": {
   "display_name": "Python 3",
   "language": "python",
   "name": "python3"
  },
  "language_info": {
   "codemirror_mode": {
    "name": "ipython",
    "version": 3
   },
   "file_extension": ".py",
   "mimetype": "text/x-python",
   "name": "python",
   "nbconvert_exporter": "python",
   "pygments_lexer": "ipython3",
   "version": "3.12.3"
  }
 },
 "nbformat": 4,
 "nbformat_minor": 2
}
