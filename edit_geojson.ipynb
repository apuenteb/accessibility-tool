{
 "cells": [
  {
   "cell_type": "code",
   "execution_count": 1,
   "metadata": {},
   "outputs": [
    {
     "name": "stdout",
     "output_type": "stream",
     "text": [
      "  Erreferentz       CUSEC  CUMUN Seccion Distrito    CUDIS  \\\n",
      "0     8594095  2006907027  20069     027       07  2006907   \n",
      "1     8594099  2006907027  20069     027       07  2006907   \n",
      "2     8594100  2006907027  20069     027       07  2006907   \n",
      "3     8796114  2006907023  20069     023       07  2006907   \n",
      "4     8796136  2006907023  20069     023       07  2006907   \n",
      "\n",
      "                Municipio    color  \\\n",
      "0  Donostia/San Sebastián  #D50000   \n",
      "1  Donostia/San Sebastián  #D50000   \n",
      "2  Donostia/San Sebastián  #D50000   \n",
      "3  Donostia/San Sebastián  #6a1717   \n",
      "4  Donostia/San Sebastián  #6a1717   \n",
      "\n",
      "                                            geometry  \n",
      "0  MULTIPOLYGON (((-1.94835 43.29971, -1.94834 43...  \n",
      "1  MULTIPOLYGON (((-1.94828 43.29886, -1.94831 43...  \n",
      "2  MULTIPOLYGON (((-1.94794 43.29851, -1.94797 43...  \n",
      "3  MULTIPOLYGON (((-1.92793 43.31524, -1.92823 43...  \n",
      "4  MULTIPOLYGON (((-1.92885 43.31418, -1.92859 43...  \n"
     ]
    }
   ],
   "source": [
    "import geopandas as gpd\n",
    "\n",
    "# Load the data\n",
    "gdf=gpd.read_file('assets/hospital_with_colors_bike.geojson')\n",
    "\n",
    "print(gdf.head())"
   ]
  },
  {
   "cell_type": "code",
   "execution_count": 2,
   "metadata": {},
   "outputs": [
    {
     "name": "stdout",
     "output_type": "stream",
     "text": [
      "  Erreferentz       CUSEC  CUMUN Seccion Distrito    CUDIS  \\\n",
      "0     8594095  2006907027  20069     027       07  2006907   \n",
      "1     8594099  2006907027  20069     027       07  2006907   \n",
      "2     8594100  2006907027  20069     027       07  2006907   \n",
      "3     8796114  2006907023  20069     023       07  2006907   \n",
      "4     8796136  2006907023  20069     023       07  2006907   \n",
      "\n",
      "                Municipio  color_1  \\\n",
      "0  Donostia/San Sebastián  #D50000   \n",
      "1  Donostia/San Sebastián  #D50000   \n",
      "2  Donostia/San Sebastián  #D50000   \n",
      "3  Donostia/San Sebastián  #6a1717   \n",
      "4  Donostia/San Sebastián  #6a1717   \n",
      "\n",
      "                                            geometry  \n",
      "0  MULTIPOLYGON (((-1.94835 43.29971, -1.94834 43...  \n",
      "1  MULTIPOLYGON (((-1.94828 43.29886, -1.94831 43...  \n",
      "2  MULTIPOLYGON (((-1.94794 43.29851, -1.94797 43...  \n",
      "3  MULTIPOLYGON (((-1.92793 43.31524, -1.92823 43...  \n",
      "4  MULTIPOLYGON (((-1.92885 43.31418, -1.92859 43...  \n"
     ]
    }
   ],
   "source": [
    "# rename color to color_1\n",
    "gdf.rename(columns={'color':'color_1'}, inplace=True)\n",
    "\n",
    "print(gdf.head())"
   ]
  },
  {
   "cell_type": "code",
   "execution_count": 3,
   "metadata": {},
   "outputs": [
    {
     "name": "stdout",
     "output_type": "stream",
     "text": [
      "  Erreferentz       CUSEC  CUMUN Seccion Distrito    CUDIS  \\\n",
      "0     8594095  2006907027  20069     027       07  2006907   \n",
      "1     8594099  2006907027  20069     027       07  2006907   \n",
      "2     8594100  2006907027  20069     027       07  2006907   \n",
      "3     8796114  2006907023  20069     023       07  2006907   \n",
      "4     8796136  2006907023  20069     023       07  2006907   \n",
      "\n",
      "                Municipio  color_1  \\\n",
      "0  Donostia/San Sebastián  #D50000   \n",
      "1  Donostia/San Sebastián  #D50000   \n",
      "2  Donostia/San Sebastián  #D50000   \n",
      "3  Donostia/San Sebastián  #6a1717   \n",
      "4  Donostia/San Sebastián  #6a1717   \n",
      "\n",
      "                                            geometry  color_2  \n",
      "0  MULTIPOLYGON (((-1.94835 43.29971, -1.94834 43...  #de1bdb  \n",
      "1  MULTIPOLYGON (((-1.94828 43.29886, -1.94831 43...  #de1bdb  \n",
      "2  MULTIPOLYGON (((-1.94794 43.29851, -1.94797 43...  #de1bdb  \n",
      "3  MULTIPOLYGON (((-1.92793 43.31524, -1.92823 43...  #de1bdb  \n",
      "4  MULTIPOLYGON (((-1.92885 43.31418, -1.92859 43...  #de1bdb  \n"
     ]
    }
   ],
   "source": [
    "gdf['color_2']=\"#de1bdb\"\n",
    "\n",
    "print(gdf.head())"
   ]
  },
  {
   "cell_type": "code",
   "execution_count": null,
   "metadata": {},
   "outputs": [],
   "source": [
    "# save to geojson\n",
    "gdf.to_file('assets/hospital_with_colors.geojson', driver='GeoJSON')"
   ]
  }
 ],
 "metadata": {
  "kernelspec": {
   "display_name": "Python 3",
   "language": "python",
   "name": "python3"
  },
  "language_info": {
   "codemirror_mode": {
    "name": "ipython",
    "version": 3
   },
   "file_extension": ".py",
   "mimetype": "text/x-python",
   "name": "python",
   "nbconvert_exporter": "python",
   "pygments_lexer": "ipython3",
   "version": "3.12.3"
  }
 },
 "nbformat": 4,
 "nbformat_minor": 2
}
